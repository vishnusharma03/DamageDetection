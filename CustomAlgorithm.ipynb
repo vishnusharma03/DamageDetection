{
 "cells": [
  {
   "cell_type": "markdown",
   "metadata": {},
   "source": [
    "# Building your own algorithm container\n"
   ]
  },
  {
   "attachments": {},
   "cell_type": "markdown",
   "metadata": {},
   "source": [
    "---\n",
    "\n",
    "This notebook's CI test result for us-west-2 is as follows. CI test results in other regions can be found at the end of the notebook. \n",
    "\n",
    "![This us-west-2 badge failed to load. Check your device's internet connectivity, otherwise the service is currently unavailable](https://prod.us-west-2.tcx-beacon.docs.aws.dev/sagemaker-nb/us-west-2/advanced_functionality|scikit_bring_your_own|scikit_bring_your_own.ipynb)\n",
    "\n",
    "---"
   ]
  },
  {
   "cell_type": "markdown",
   "metadata": {},
   "source": [
    "\n",
    "With Amazon SageMaker, you can package your own algorithms that can than be trained and deployed in the SageMaker environment. This notebook will guide you through an example that shows you how to build a Docker container for SageMaker and use it for training and inference.\n",
    "\n",
    "By packaging an algorithm in a container, you can bring almost any code to the Amazon SageMaker environment, regardless of programming language, environment, framework, or dependencies. \n",
    "\n",
    "_**Note:**_ SageMaker now includes a [pre-built scikit container](https://github.com/awslabs/amazon-sagemaker-examples/blob/master/sagemaker-python-sdk/scikit_learn_iris/Scikit-learn%20Estimator%20Example%20With%20Batch%20Transform.ipynb).  We recommend the pre-built container be used for almost all cases requiring a scikit algorithm.  However, this example remains relevant as an outline for bringing in other libraries to SageMaker as your own container.\n",
    "\n",
    "1. [Building your own algorithm container](#Building-your-own-algorithm-container)\n",
    "  1. [When should I build my own algorithm container?](#When-should-I-build-my-own-algorithm-container%3F)\n",
    "  1. [Permissions](#Permissions)\n",
    "  1. [The example](#The-example)\n",
    "  1. [The presentation](#The-presentation)\n",
    "1. [Part 1: Packaging and Uploading your Algorithm for use with Amazon SageMaker](#Part-1%3A-Packaging-and-Uploading-your-Algorithm-for-use-with-Amazon-SageMaker)\n",
    "    1. [An overview of Docker](#An-overview-of-Docker)\n",
    "    1. [How Amazon SageMaker runs your Docker container](#How-Amazon-SageMaker-runs-your-Docker-container)\n",
    "      1. [Running your container during training](#Running-your-container-during-training)\n",
    "        1. [The input](#The-input)\n",
    "        1. [The output](#The-output)\n",
    "      1. [Running your container during hosting](#Running-your-container-during-hosting)\n",
    "    1. [The parts of the sample container](#The-parts-of-the-sample-container)\n",
    "    1. [The Dockerfile](#The-Dockerfile)\n",
    "    1. [Building and registering the container](#Building-and-registering-the-container)\n",
    "  1. [Testing your algorithm on your local machine or on an Amazon SageMaker notebook instance](#Testing-your-algorithm-on-your-local-machine-or-on-an-Amazon-SageMaker-notebook-instance)\n",
    "1. [Part 2: Using your Algorithm in Amazon SageMaker](#Part-2%3A-Using-your-Algorithm-in-Amazon-SageMaker)\n",
    "  1. [Set up the environment](#Set-up-the-environment)\n",
    "  1. [Create the session](#Create-the-session)\n",
    "  1. [Upload the data for training](#Upload-the-data-for-training)\n",
    "  1. [Create an estimator and fit the model](#Create-an-estimator-and-fit-the-model)\n",
    "  1. [Hosting your model](#Hosting-your-model)\n",
    "    1. [Deploy the model](#Deploy-the-model)\n",
    "    2. [Choose some data and use it for a prediction](#Choose-some-data-and-use-it-for-a-prediction)\n",
    "    3. [Optional cleanup](#Optional-cleanup)\n",
    "  1. [Run Batch Transform Job](#Run-Batch-Transform-Job)\n",
    "    1. [Create a Transform Job](#Create-a-Transform-Job)\n",
    "    2. [View Output](#View-Output)\n",
    "\n",
    "_or_ I'm impatient, just [let me see the code](#The-Dockerfile)!\n",
    "\n",
    "## When should I build my own algorithm container?\n",
    "\n",
    "You may not need to create a container to bring your own code to Amazon SageMaker. When you are using a framework (such as Apache MXNet or TensorFlow) that has direct support in SageMaker, you can simply supply the Python code that implements your algorithm using the SDK entry points for that framework. This set of frameworks is continually expanding, so we recommend that you check the current list if your algorithm is written in a common machine learning environment.\n",
    "\n",
    "Even if there is direct SDK support for your environment or framework, you may find it more effective to build your own container. If the code that implements your algorithm is quite complex on its own or you need special additions to the framework, building your own container may be the right choice.\n",
    "\n",
    "If there isn't direct SDK support for your environment, don't worry. You'll see in this walk-through that building your own container is quite straightforward.\n",
    "\n",
    "## Permissions\n",
    "\n",
    "Running this notebook requires permissions in addition to the normal `SageMakerFullAccess` permissions. This is because we'll creating new repositories in Amazon ECR. The easiest way to add these permissions is simply to add the managed policy `AmazonEC2ContainerRegistryFullAccess` to the role that you used to start your notebook instance. There's no need to restart your notebook instance when you do this, the new permissions will be available immediately.\n",
    "\n",
    "## The example\n",
    "\n",
    "Here, we'll show how to package a simple Python example which showcases the [decision tree][] algorithm from the widely used [scikit-learn][] machine learning package. The example is purposefully fairly trivial since the point is to show the surrounding structure that you'll want to add to your own code so you can train and host it in Amazon SageMaker.\n",
    "\n",
    "The ideas shown here will work in any language or environment. You'll need to choose the right tools for your environment to serve HTTP requests for inference, but good HTTP environments are available in every language these days.\n",
    "\n",
    "In this example, we use a single image to support training and hosting. This is easy because it means that we only need to manage one image and we can set it up to do everything. Sometimes you'll want separate images for training and hosting because they have different requirements. Just separate the parts discussed below into separate Dockerfiles and build two images. Choosing whether to have a single image or two images is really a matter of which is more convenient for you to develop and manage.\n",
    "\n",
    "If you're only using Amazon SageMaker for training or hosting, but not both, there is no need to build the unused functionality into your container.\n",
    "\n",
    "[scikit-learn]: http://scikit-learn.org/stable/\n",
    "[decision tree]: http://scikit-learn.org/stable/modules/tree.html\n",
    "\n",
    "## The presentation\n",
    "\n",
    "This presentation is divided into two parts: _building_ the container and _using_ the container."
   ]
  },
  {
   "cell_type": "markdown",
   "metadata": {},
   "source": [
    "## Part 1: Packaging and Uploading your Algorithm for use with Amazon SageMaker\n",
    "\n",
    "### An overview of Docker\n",
    "\n",
    "If you're familiar with Docker already, you can skip ahead to the next section.\n",
    "\n",
    "For many data scientists, Docker containers are a new concept, but they are not difficult, as you'll see here. \n",
    "\n",
    "Docker provides a simple way to package arbitrary code into an _image_ that is totally self-contained. Once you have an image, you can use Docker to run a _container_ based on that image. Running a container is just like running a program on the machine except that the container creates a fully self-contained environment for the program to run. Containers are isolated from each other and from the host environment, so the way you set up your program is the way it runs, no matter where you run it.\n",
    "\n",
    "Docker is more powerful than environment managers like conda or virtualenv because (a) it is completely language independent and (b) it comprises your whole operating environment, including startup commands, environment variable, etc.\n",
    "\n",
    "In some ways, a Docker container is like a virtual machine, but it is much lighter weight. For example, a program running in a container can start in less than a second and many containers can run on the same physical machine or virtual machine instance.\n",
    "\n",
    "Docker uses a simple file called a `Dockerfile` to specify how the image is assembled. We'll see an example of that below. You can build your Docker images based on Docker images built by yourself or others, which can simplify things quite a bit.\n",
    "\n",
    "Docker has become very popular in the programming and devops communities for its flexibility and well-defined specification of the code to be run. It is the underpinning of many services built in the past few years, such as [Amazon ECS].\n",
    "\n",
    "Amazon SageMaker uses Docker to allow users to train and deploy arbitrary algorithms.\n",
    "\n",
    "In Amazon SageMaker, Docker containers are invoked in a certain way for training and a slightly different way for hosting. The following sections outline how to build containers for the SageMaker environment.\n",
    "\n",
    "Some helpful links:\n",
    "\n",
    "* [Docker home page](http://www.docker.com)\n",
    "* [Getting started with Docker](https://docs.docker.com/get-started/)\n",
    "* [Dockerfile reference](https://docs.docker.com/engine/reference/builder/)\n",
    "* [`docker run` reference](https://docs.docker.com/engine/reference/run/)\n",
    "\n",
    "[Amazon ECS]: https://aws.amazon.com/ecs/\n",
    "\n",
    "### How Amazon SageMaker runs your Docker container\n",
    "\n",
    "Because you can run the same image in training or hosting, Amazon SageMaker runs your container with the argument `train` or `serve`. How your container processes this argument depends on the container:\n",
    "\n",
    "* In the example here, we don't define an `ENTRYPOINT` in the Dockerfile so Docker will run the command `train` at training time and `serve` at serving time. In this example, we define these as executable Python scripts, but they could be any program that we want to start in that environment.\n",
    "* If you specify a program as an `ENTRYPOINT` in the Dockerfile, that program will be run at startup and its first argument will be `train` or `serve`. The program can then look at that argument and decide what to do.\n",
    "* If you are building separate containers for training and hosting (or building only for one or the other), you can define a program as an `ENTRYPOINT` in the Dockerfile and ignore (or verify) the first argument passed in. \n",
    "\n",
    "#### Running your container during training\n",
    "\n",
    "When Amazon SageMaker runs training, your `train` script is run just like a regular Python program. A number of files are laid out for your use, under the `/opt/ml` directory:\n",
    "\n",
    "    /opt/ml\n",
    "    |-- input\n",
    "    |   |-- config\n",
    "    |   |   |-- hyperparameters.json\n",
    "    |   |   `-- resourceConfig.json\n",
    "    |   `-- data\n",
    "    |       `-- <channel_name>\n",
    "    |           `-- <input data>\n",
    "    |-- model\n",
    "    |   `-- <model files>\n",
    "    `-- output\n",
    "        `-- failure\n",
    "\n",
    "##### The input\n",
    "\n",
    "* `/opt/ml/input/config` contains information to control how your program runs. `hyperparameters.json` is a JSON-formatted dictionary of hyperparameter names to values. These values will always be strings, so you may need to convert them. `resourceConfig.json` is a JSON-formatted file that describes the network layout used for distributed training. Since scikit-learn doesn't support distributed training, we'll ignore it here.\n",
    "* `/opt/ml/input/data/<channel_name>/` (for File mode) contains the input data for that channel. The channels are created based on the call to CreateTrainingJob but it's generally important that channels match what the algorithm expects. The files for each channel will be copied from S3 to this directory, preserving the tree structure indicated by the S3 key structure. \n",
    "* `/opt/ml/input/data/<channel_name>_<epoch_number>` (for Pipe mode) is the pipe for a given epoch. Epochs start at zero and go up by one each time you read them. There is no limit to the number of epochs that you can run, but you must close each pipe before reading the next epoch.\n",
    "\n",
    "##### The output\n",
    "\n",
    "* `/opt/ml/model/` is the directory where you write the model that your algorithm generates. Your model can be in any format that you want. It can be a single file or a whole directory tree. SageMaker will package any files in this directory into a compressed tar archive file. This file will be available at the S3 location returned in the `DescribeTrainingJob` result.\n",
    "* `/opt/ml/output` is a directory where the algorithm can write a file `failure` that describes why the job failed. The contents of this file will be returned in the `FailureReason` field of the `DescribeTrainingJob` result. For jobs that succeed, there is no reason to write this file as it will be ignored.\n",
    "\n",
    "#### Running your container during hosting\n",
    "\n",
    "Hosting has a very different model than training because hosting is responding to inference requests that come in via HTTP. In this example, we use our recommended Python serving stack to provide robust and scalable serving of inference requests:\n",
    "\n",
    "![Request serving stack](stack.png)\n",
    "\n",
    "This stack is implemented in the sample code here and you can mostly just leave it alone. \n",
    "\n",
    "Amazon SageMaker uses two URLs in the container:\n",
    "\n",
    "* `/ping` will receive `GET` requests from the infrastructure. Your program returns 200 if the container is up and accepting requests.\n",
    "* `/invocations` is the endpoint that receives client inference `POST` requests. The format of the request and the response is up to the algorithm. If the client supplied `ContentType` and `Accept` headers, these will be passed in as well. \n",
    "\n",
    "The container will have the model files in the same place they were written during training:\n",
    "\n",
    "    /opt/ml\n",
    "    `-- model\n",
    "        `-- <model files>\n",
    "\n"
   ]
  },
  {
   "cell_type": "markdown",
   "metadata": {},
   "source": [
    "### The parts of the sample container\n",
    "\n",
    "In the `container` directory are all the components you need to package the sample algorithm for Amazon SageMager:\n",
    "\n",
    "    .\n",
    "    |-- Dockerfile\n",
    "    |-- build_and_push.sh\n",
    "    `-- decision_trees\n",
    "        |-- nginx.conf\n",
    "        |-- predictor.py\n",
    "        |-- serve\n",
    "        |-- train\n",
    "        `-- wsgi.py\n",
    "\n",
    "Let's discuss each of these in turn:\n",
    "\n",
    "* __`Dockerfile`__ describes how to build your Docker container image. More details below.\n",
    "* __`build_and_push.sh`__ is a script that uses the Dockerfile to build your container images and then pushes it to ECR. We'll invoke the commands directly later in this notebook, but you can just copy and run the script for your own algorithms.\n",
    "* __`decision_trees`__ is the directory which contains the files that will be installed in the container.\n",
    "* __`local_test`__ is a directory that shows how to test your new container on any computer that can run Docker, including an Amazon SageMaker notebook instance. Using this method, you can quickly iterate using small datasets to eliminate any structural bugs before you use the container with Amazon SageMaker. We'll walk through local testing later in this notebook.\n",
    "\n",
    "In this simple application, we only install five files in the container. You may only need that many or, if you have many supporting routines, you may wish to install more. These five show the standard structure of our Python containers, although you are free to choose a different toolset and therefore could have a different layout. If you're writing in a different programming language, you'll certainly have a different layout depending on the frameworks and tools you choose.\n",
    "\n",
    "The files that we'll put in the container are:\n",
    "\n",
    "* __`nginx.conf`__ is the configuration file for the nginx front-end. Generally, you should be able to take this file as-is.\n",
    "* __`predictor.py`__ is the program that actually implements the Flask web server and the decision tree predictions for this app. You'll want to customize the actual prediction parts to your application. Since this algorithm is simple, we do all the processing here in this file, but you may choose to have separate files for implementing your custom logic.\n",
    "* __`serve`__ is the program started when the container is started for hosting. It simply launches the gunicorn server which runs multiple instances of the Flask app defined in `predictor.py`. You should be able to take this file as-is.\n",
    "* __`train`__ is the program that is invoked when the container is run for training. You will modify this program to implement your training algorithm.\n",
    "* __`wsgi.py`__ is a small wrapper used to invoke the Flask app. You should be able to take this file as-is.\n",
    "\n",
    "In summary, the two files you will probably want to change for your application are `train` and `predictor.py`."
   ]
  },
  {
   "cell_type": "markdown",
   "metadata": {},
   "source": [
    "### The Dockerfile\n",
    "\n",
    "The Dockerfile describes the image that we want to build. You can think of it as describing the complete operating system installation of the system that you want to run. A Docker container running is quite a bit lighter than a full operating system, however, because it takes advantage of Linux on the host machine for the basic operations. \n",
    "\n",
    "For the Python science stack, we will start from a standard Ubuntu installation and run the normal tools to install the things needed by scikit-learn. Finally, we add the code that implements our specific algorithm to the container and set up the right environment to run under.\n",
    "\n",
    "Along the way, we clean up extra space. This makes the container smaller and faster to start.\n",
    "\n",
    "Let's look at the Dockerfile for the example:"
   ]
  },
  {
   "cell_type": "code",
   "execution_count": null,
   "metadata": {},
   "outputs": [],
   "source": [
    "!cat container/Dockerfile"
   ]
  },
  {
   "cell_type": "markdown",
   "metadata": {},
   "source": [
    "### Building and registering the container\n",
    "\n",
    "The following shell code shows how to build the container image using `docker build` and push the container image to ECR using `docker push`. This code is also available as the shell script `container/build-and-push.sh`, which you can run as `build-and-push.sh decision_trees_sample` to build the image `decision_trees_sample`. \n",
    "\n",
    "This code looks for an ECR repository in the account you're using and the current default region (if you're using a SageMaker notebook instance, this will be the region where the notebook instance was created). If the repository doesn't exist, the script will create it."
   ]
  },
  {
   "cell_type": "code",
   "execution_count": null,
   "metadata": {},
   "outputs": [],
   "source": [
    "%%sh\n",
    "\n",
    "# The name of our algorithm\n",
    "algorithm_name=sagemaker-decision-trees\n",
    "\n",
    "cd container\n",
    "\n",
    "chmod +x decision_trees/train\n",
    "chmod +x decision_trees/serve\n",
    "\n",
    "account=$(aws sts get-caller-identity --query Account --output text)\n",
    "\n",
    "# Get the region defined in the current configuration (default to us-west-2 if none defined)\n",
    "region=$(aws configure get region)\n",
    "region=${region:-us-west-2}\n",
    "\n",
    "fullname=\"${account}.dkr.ecr.${region}.amazonaws.com/${algorithm_name}:latest\"\n",
    "\n",
    "# If the repository doesn't exist in ECR, create it.\n",
    "aws ecr describe-repositories --repository-names \"${algorithm_name}\" > /dev/null 2>&1\n",
    "\n",
    "if [ $? -ne 0 ]\n",
    "then\n",
    "    aws ecr create-repository --repository-name \"${algorithm_name}\" > /dev/null\n",
    "fi\n",
    "\n",
    "# Get the login command from ECR and execute it directly\n",
    "aws ecr get-login-password --region ${region}|docker login --username AWS --password-stdin ${fullname}\n",
    "\n",
    "# Build the docker image locally with the image name and then push it to ECR\n",
    "# with the full name.\n",
    "\n",
    "docker build -t ${algorithm_name} .\n",
    "docker tag ${algorithm_name} ${fullname}\n",
    "\n",
    "docker push ${fullname}"
   ]
  },
  {
   "cell_type": "markdown",
   "metadata": {},
   "source": [
    "## Testing your algorithm on your local machine or on an Amazon SageMaker notebook instance\n",
    "\n",
    "While you're first packaging an algorithm use with Amazon SageMaker, you probably want to test it yourself to make sure it's working right. In the directory `container/local_test`, there is a framework for doing this. It includes three shell scripts for running and using the container and a directory structure that mimics the one outlined above.\n",
    "\n",
    "The scripts are:\n",
    "\n",
    "* `train_local.sh`: Run this with the name of the image and it will run training on the local tree. For example, you can run `$ ./train_local.sh sagemaker-decision-trees`. It will generate a model under the `/test_dir/model` directory. You'll want to modify the directory `test_dir/input/data/...` to be set up with the correct channels and data for your algorithm. Also, you'll want to modify the file `input/config/hyperparameters.json` to have the hyperparameter settings that you want to test (as strings).\n",
    "* `serve_local.sh`: Run this with the name of the image once you've trained the model and it should serve the model. For example, you can run `$ ./serve_local.sh sagemaker-decision-trees`. It will run and wait for requests. Simply use the keyboard interrupt to stop it.\n",
    "* `predict.sh`: Run this with the name of a payload file and (optionally) the HTTP content type you want. The content type will default to `text/csv`. For example, you can run `$ ./predict.sh payload.csv text/csv`.\n",
    "\n",
    "The directories as shipped are set up to test the decision trees sample algorithm presented here."
   ]
  },
  {
   "cell_type": "markdown",
   "metadata": {},
   "source": [
    "## Part 2: Using your Algorithm in Amazon SageMaker\n",
    "\n",
    "Once you have your container packaged, you can use it to train models and use the model for hosting or batch transforms. Let's do that with the algorithm we made above.\n",
    "\n",
    "## Set up the environment\n",
    "\n",
    "Here we specify a bucket to use and the role that will be used for working with SageMaker."
   ]
  },
  {
   "cell_type": "code",
   "execution_count": 4,
   "metadata": {},
   "outputs": [
    {
     "name": "stdout",
     "output_type": "stream",
     "text": [
      "Requirement already satisfied: boto3 in ./anaconda3/lib/python3.11/site-packages (1.34.114)\n",
      "Requirement already satisfied: sagemaker in ./anaconda3/lib/python3.11/site-packages (2.221.1)\n",
      "Requirement already satisfied: botocore<1.35.0,>=1.34.114 in ./anaconda3/lib/python3.11/site-packages (from boto3) (1.34.114)\n",
      "Requirement already satisfied: jmespath<2.0.0,>=0.7.1 in ./anaconda3/lib/python3.11/site-packages (from boto3) (1.0.1)\n",
      "Requirement already satisfied: s3transfer<0.11.0,>=0.10.0 in ./anaconda3/lib/python3.11/site-packages (from boto3) (0.10.1)\n",
      "Requirement already satisfied: attrs<24,>=23.1.0 in ./anaconda3/lib/python3.11/site-packages (from sagemaker) (23.1.0)\n",
      "Requirement already satisfied: cloudpickle==2.2.1 in ./anaconda3/lib/python3.11/site-packages (from sagemaker) (2.2.1)\n",
      "Requirement already satisfied: google-pasta in ./anaconda3/lib/python3.11/site-packages (from sagemaker) (0.2.0)\n",
      "Requirement already satisfied: numpy<2.0,>=1.9.0 in ./anaconda3/lib/python3.11/site-packages (from sagemaker) (1.26.4)\n",
      "Requirement already satisfied: protobuf<5.0,>=3.12 in ./anaconda3/lib/python3.11/site-packages (from sagemaker) (3.20.3)\n",
      "Requirement already satisfied: smdebug-rulesconfig==1.0.1 in ./anaconda3/lib/python3.11/site-packages (from sagemaker) (1.0.1)\n",
      "Requirement already satisfied: importlib-metadata<7.0,>=1.4.0 in ./anaconda3/lib/python3.11/site-packages (from sagemaker) (6.11.0)\n",
      "Requirement already satisfied: packaging>=20.0 in ./anaconda3/lib/python3.11/site-packages (from sagemaker) (23.1)\n",
      "Requirement already satisfied: pandas in ./anaconda3/lib/python3.11/site-packages (from sagemaker) (2.1.4)\n",
      "Requirement already satisfied: pathos in ./anaconda3/lib/python3.11/site-packages (from sagemaker) (0.3.2)\n",
      "Requirement already satisfied: schema in ./anaconda3/lib/python3.11/site-packages (from sagemaker) (0.7.7)\n",
      "Requirement already satisfied: PyYAML~=6.0 in ./anaconda3/lib/python3.11/site-packages (from sagemaker) (6.0.1)\n",
      "Requirement already satisfied: jsonschema in ./anaconda3/lib/python3.11/site-packages (from sagemaker) (4.19.2)\n",
      "Requirement already satisfied: platformdirs in ./anaconda3/lib/python3.11/site-packages (from sagemaker) (3.10.0)\n",
      "Requirement already satisfied: tblib<4,>=1.7.0 in ./anaconda3/lib/python3.11/site-packages (from sagemaker) (1.7.0)\n",
      "Requirement already satisfied: urllib3<3.0.0,>=1.26.8 in ./anaconda3/lib/python3.11/site-packages (from sagemaker) (2.0.7)\n",
      "Requirement already satisfied: requests in ./anaconda3/lib/python3.11/site-packages (from sagemaker) (2.31.0)\n",
      "Requirement already satisfied: docker in ./anaconda3/lib/python3.11/site-packages (from sagemaker) (7.1.0)\n",
      "Requirement already satisfied: tqdm in ./anaconda3/lib/python3.11/site-packages (from sagemaker) (4.65.0)\n",
      "Requirement already satisfied: psutil in ./anaconda3/lib/python3.11/site-packages (from sagemaker) (5.9.0)\n",
      "Requirement already satisfied: python-dateutil<3.0.0,>=2.1 in ./anaconda3/lib/python3.11/site-packages (from botocore<1.35.0,>=1.34.114->boto3) (2.8.2)\n",
      "Requirement already satisfied: zipp>=0.5 in ./anaconda3/lib/python3.11/site-packages (from importlib-metadata<7.0,>=1.4.0->sagemaker) (3.17.0)\n",
      "Requirement already satisfied: charset-normalizer<4,>=2 in ./anaconda3/lib/python3.11/site-packages (from requests->sagemaker) (2.0.4)\n",
      "Requirement already satisfied: idna<4,>=2.5 in ./anaconda3/lib/python3.11/site-packages (from requests->sagemaker) (3.4)\n",
      "Requirement already satisfied: certifi>=2017.4.17 in ./anaconda3/lib/python3.11/site-packages (from requests->sagemaker) (2024.2.2)\n",
      "Requirement already satisfied: six in ./anaconda3/lib/python3.11/site-packages (from google-pasta->sagemaker) (1.16.0)\n",
      "Requirement already satisfied: jsonschema-specifications>=2023.03.6 in ./anaconda3/lib/python3.11/site-packages (from jsonschema->sagemaker) (2023.7.1)\n",
      "Requirement already satisfied: referencing>=0.28.4 in ./anaconda3/lib/python3.11/site-packages (from jsonschema->sagemaker) (0.30.2)\n",
      "Requirement already satisfied: rpds-py>=0.7.1 in ./anaconda3/lib/python3.11/site-packages (from jsonschema->sagemaker) (0.10.6)\n",
      "Requirement already satisfied: pytz>=2020.1 in ./anaconda3/lib/python3.11/site-packages (from pandas->sagemaker) (2023.3.post1)\n",
      "Requirement already satisfied: tzdata>=2022.1 in ./anaconda3/lib/python3.11/site-packages (from pandas->sagemaker) (2023.3)\n",
      "Requirement already satisfied: ppft>=1.7.6.8 in ./anaconda3/lib/python3.11/site-packages (from pathos->sagemaker) (1.7.6.8)\n",
      "Requirement already satisfied: dill>=0.3.8 in ./anaconda3/lib/python3.11/site-packages (from pathos->sagemaker) (0.3.8)\n",
      "Requirement already satisfied: pox>=0.3.4 in ./anaconda3/lib/python3.11/site-packages (from pathos->sagemaker) (0.3.4)\n",
      "Requirement already satisfied: multiprocess>=0.70.16 in ./anaconda3/lib/python3.11/site-packages (from pathos->sagemaker) (0.70.16)\n"
     ]
    }
   ],
   "source": [
    "!python -m pip install boto3 sagemaker"
   ]
  },
  {
   "cell_type": "code",
   "execution_count": 9,
   "metadata": {},
   "outputs": [],
   "source": [
    "# S3 prefix\n",
    "prefix = \"sharma101\"\n",
    "\n",
    "# Define IAM role\n",
    "import boto3\n",
    "import re\n",
    "\n",
    "import os\n",
    "import numpy as np\n",
    "import pandas as pd\n",
    "from sagemaker import get_execution_role\n",
    "\n",
    "role = \"arn:aws:iam::377780585900:role/Sagemaker_build_role\"  # get_execution_role()"
   ]
  },
  {
   "cell_type": "markdown",
   "metadata": {},
   "source": [
    "## Create the session\n",
    "\n",
    "The session remembers our connection parameters to SageMaker. We'll use it to perform all of our SageMaker operations."
   ]
  },
  {
   "cell_type": "code",
   "execution_count": 2,
   "metadata": {},
   "outputs": [],
   "source": [
    "import sagemaker as sage\n",
    "from time import gmtime, strftime\n",
    "\n",
    "sess = sage.Session()"
   ]
  },
  {
   "cell_type": "markdown",
   "metadata": {},
   "source": [
    "## Upload the data for training\n",
    "\n",
    "When training large models with huge amounts of data, you'll typically use big data tools, like Amazon Athena, AWS Glue, or Amazon EMR, to create your data in S3. For the purposes of this example, we're using some the classic [Iris dataset](https://en.wikipedia.org/wiki/Iris_flower_data_set), which we have included. \n",
    "\n",
    "We can use use the tools provided by the SageMaker Python SDK to upload the data to a default bucket. "
   ]
  },
  {
   "cell_type": "code",
   "execution_count": null,
   "metadata": {},
   "outputs": [],
   "source": [
    "WORK_DIRECTORY = \"datasets\"\n",
    "\n",
    "data_location = sess.upload_data(WORK_DIRECTORY, key_prefix=prefix)"
   ]
  },
  {
   "cell_type": "markdown",
   "metadata": {},
   "source": [
    "## Create an estimator and fit the model\n",
    "\n",
    "In order to use SageMaker to fit our algorithm, we'll create an `Estimator` that defines how to use the container to train. This includes the configuration we need to invoke SageMaker training:\n",
    "\n",
    "* The __container name__. This is constructed as in the shell commands above.\n",
    "* The __role__. As defined above.\n",
    "* The __instance count__ which is the number of machines to use for training.\n",
    "* The __instance type__ which is the type of machine to use for training.\n",
    "* The __output path__ determines where the model artifact will be written.\n",
    "* The __session__ is the SageMaker session object that we defined above.\n",
    "\n",
    "Then we use fit() on the estimator to train against the data that we uploaded above."
   ]
  },
  {
   "cell_type": "code",
   "execution_count": 21,
   "metadata": {},
   "outputs": [],
   "source": [
    "data_location = \"s3://sagemaker-us-east-1-377780585900/sharma101/newdentdata.zip\""
   ]
  },
  {
   "cell_type": "code",
   "execution_count": 27,
   "metadata": {},
   "outputs": [
    {
     "name": "stderr",
     "output_type": "stream",
     "text": [
      "INFO:sagemaker:Creating training-job with name: damageten-2024-06-05-17-26-42-524\n"
     ]
    },
    {
     "name": "stdout",
     "output_type": "stream",
     "text": [
      "2024-06-05 17:26:47 Starting - Starting the training job...\n",
      "2024-06-05 17:27:03 Starting - Preparing the instances for training...\n",
      "2024-06-05 17:27:37 Downloading - Downloading input data...\n",
      "2024-06-05 17:28:22 Downloading - Downloading the training image.........\n",
      "2024-06-05 17:29:42 Training - Training image download completed. Training in progress..\u001b[34mExtracted and deleted zip files.\u001b[0m\n",
      "\u001b[34mFiles in /opt/ml/input/data/training/: ['data.yaml', 'README.roboflow.txt', 'README.dataset.txt']\u001b[0m\n",
      "\u001b[34mStarting the training.\u001b[0m\n",
      "\u001b[34mcpu\u001b[0m\n",
      "\u001b[34m#033[34m#033[1mengine/trainer: #033[0mtask=detect, mode=train, model=yolov8n.pt, data=/opt/ml/input/data/training/data.yaml, epochs=2, time=None, patience=100, batch=16, imgsz=614, save=True, save_period=-1, cache=False, device=cpu, workers=8, project=/opt/ml/model, name=train, exist_ok=True, pretrained=/opt/ml/model/train/weights/best.pt, optimizer=auto, verbose=True, seed=0, deterministic=True, single_cls=False, rect=False, cos_lr=False, close_mosaic=10, resume=False, amp=True, fraction=1.0, profile=False, freeze=None, multi_scale=False, overlap_mask=True, mask_ratio=4, dropout=0.0, val=True, split=val, save_json=False, save_hybrid=False, conf=None, iou=0.7, max_det=300, half=False, dnn=False, plots=True, source=None, vid_stride=1, stream_buffer=False, visualize=False, augment=False, agnostic_nms=False, classes=None, retina_masks=False, embed=None, show=False, save_frames=False, save_txt=False, save_conf=False, save_crop=False, show_labels=True, show_conf=True, show_boxes=True, line_width=None, format=torchscript, keras=False, optimize=False, int8=False, dynamic=False, simplify=False, opset=None, workspace=4, nms=False, lr0=0.01, lrf=0.01, momentum=0.937, weight_decay=0.0005, warmup_epochs=3.0, warmup_momentum=0.8, warmup_bias_lr=0.1, box=7.5, cls=0.5, dfl=1.5, pose=12.0, kobj=1.0, label_smoothing=0.0, nbs=64, hsv_h=0.015, hsv_s=0.7, hsv_v=0.4, degrees=0.0, translate=0.1, scale=0.5, shear=0.0, perspective=0.0, flipud=0.0, fliplr=0.5, bgr=0.0, mosaic=1.0, mixup=0.0, copy_paste=0.0, auto_augment=randaugment, erasing=0.4, crop_fraction=1.0, cfg=None, tracker=botsort.yaml, save_dir=/opt/ml/model/train\u001b[0m\n",
      "\u001b[34mDownloading https://ultralytics.com/assets/Arial.ttf to '/root/.config/Ultralytics/Arial.ttf'...\u001b[0m\n",
      "\u001b[34m#015  0%|          | 0.00/755k [00:00<?, ?B/s]#015100%|██████████| 755k/755k [00:00<00:00, 143MB/s]\u001b[0m\n",
      "\u001b[34mOverriding model.yaml nc=80 with nc=9\n",
      "                   from  n    params  module                                       arguments                     \n",
      "  0                  -1  1       464  ultralytics.nn.modules.conv.Conv             [3, 16, 3, 2]                 \n",
      "  1                  -1  1      4672  ultralytics.nn.modules.conv.Conv             [16, 32, 3, 2]                \n",
      "  2                  -1  1      7360  ultralytics.nn.modules.block.C2f             [32, 32, 1, True]             \n",
      "  3                  -1  1     18560  ultralytics.nn.modules.conv.Conv             [32, 64, 3, 2]                \n",
      "  4                  -1  2     49664  ultralytics.nn.modules.block.C2f             [64, 64, 2, True]             \n",
      "  5                  -1  1     73984  ultralytics.nn.modules.conv.Conv             [64, 128, 3, 2]               \n",
      "  6                  -1  2    197632  ultralytics.nn.modules.block.C2f             [128, 128, 2, True]           \n",
      "  7                  -1  1    295424  ultralytics.nn.modules.conv.Conv             [128, 256, 3, 2]              \n",
      "  8                  -1  1    460288  ultralytics.nn.modules.block.C2f             [256, 256, 1, True]           \n",
      "  9                  -1  1    164608  ultralytics.nn.modules.block.SPPF            [256, 256, 5]                 \n",
      " 10                  -1  1         0  torch.nn.modules.upsampling.Upsample         [None, 2, 'nearest']          \n",
      " 11             [-1, 6]  1         0  ultralytics.nn.modules.conv.Concat           [1]                           \n",
      " 12                  -1  1    148224  ultralytics.nn.modules.block.C2f             [384, 128, 1]                 \n",
      " 13                  -1  1         0  torch.nn.modules.upsampling.Upsample         [None, 2, 'nearest']          \n",
      " 14             [-1, 4]  1         0  ultralytics.nn.modules.conv.Concat           [1]                           \n",
      " 15                  -1  1     37248  ultralytics.nn.modules.block.C2f             [192, 64, 1]                  \n",
      " 16                  -1  1     36992  ultralytics.nn.modules.conv.Conv             [64, 64, 3, 2]                \n",
      " 17            [-1, 12]  1         0  ultralytics.nn.modules.conv.Concat           [1]                           \n",
      " 18                  -1  1    123648  ultralytics.nn.modules.block.C2f             [192, 128, 1]                 \n",
      " 19                  -1  1    147712  ultralytics.nn.modules.conv.Conv             [128, 128, 3, 2]              \n",
      " 20             [-1, 9]  1         0  ultralytics.nn.modules.conv.Concat           [1]                           \n",
      " 21                  -1  1    493056  ultralytics.nn.modules.block.C2f             [384, 256, 1]                 \n",
      " 22        [15, 18, 21]  1    753067  ultralytics.nn.modules.head.Detect           [9, [64, 128, 256]]           \u001b[0m\n",
      "\u001b[34mModel summary: 225 layers, 3012603 parameters, 3012587 gradients, 8.2 GFLOPs\u001b[0m\n",
      "\u001b[34mTransferred 319/355 items from pretrained weights\u001b[0m\n",
      "\u001b[34mFreezing layer 'model.22.dfl.conv.weight'\u001b[0m\n",
      "\u001b[34mWARNING ⚠️ imgsz=[614] must be multiple of max stride 32, updating to [640]\u001b[0m\n",
      "\u001b[34m#015#033[34m#033[1mtrain: #033[0mScanning /opt/ml/input/data/training/train/labels...:   0%|          | 0/1386 [00:00<?, ?it/s]#015#033[34m#033[1mtrain: #033[0mScanning /opt/ml/input/data/training/train/labels... 104 images, 0 backgrounds, 0 corrupt:   8%|▊         | 104/1386 [00:00<00:01, 1026.49it/s]#015#033[34m#033[1mtrain: #033[0mScanning /opt/ml/input/data/training/train/labels... 223 images, 0 backgrounds, 0 corrupt:  16%|█▌        | 223/1386 [00:00<00:01, 1114.21it/s]#015#033[34m#033[1mtrain: #033[0mScanning /opt/ml/input/data/training/train/labels... 346 images, 0 backgrounds, 0 corrupt:  25%|██▍       | 346/1386 [00:00<00:00, 1163.21it/s]#015#033[34m#033[1mtrain: #033[0mScanning /opt/ml/input/data/training/train/labels... 476 images, 0 backgrounds, 0 corrupt:  34%|███▍      | 476/1386 [00:00<00:00, 1215.12it/s]#015#033[34m#033[1mtrain: #033[0mScanning /opt/ml/input/data/training/train/labels... 604 images, 0 backgrounds, 0 corrupt:  44%|████▎     | 604/1386 [00:00<00:00, 1211.57it/s]#015#033[34m#033[1mtrain: #033[0mScanning /opt/ml/input/data/training/train/labels... 728 images, 0 backgrounds, 0 corrupt:  53%|█████▎    | 728/1386 [00:00<00:00, 1218.36it/s]#015#033[34m#033[1mtrain: #033[0mScanning /opt/ml/input/data/training/train/labels... 865 images, 0 backgrounds, 0 corrupt:  62%|██████▏   | 865/1386 [00:00<00:00, 1233.44it/s]#015#033[34m#033[1mtrain: #033[0mScanning /opt/ml/input/data/training/train/labels... 996 images, 0 backgrounds, 0 corrupt:  72%|███████▏  | 996/1386 [00:00<00:00, 1255.03it/s]#015#033[34m#033[1mtrain: #033[0mScanning /opt/ml/input/data/training/train/labels... 1125 images, 0 backgrounds, 0 corrupt:  81%|████████  | 1125/1386 [00:00<00:00, 1252.59it/s]#015#033[34m#033[1mtrain: #033[0mScanning /opt/ml/input/data/training/train/labels... 1257 images, 0 backgrounds, 0 corrupt:  91%|█████████ | 1257/1386 [00:01<00:00, 1262.43it/s]#015#033[34m#033[1mtrain: #033[0mScanning /opt/ml/input/data/training/train/labels... 1386 images, 0 backgrounds, 0 corrupt: 100%|██████████| 1386/1386 [00:01<00:00, 1236.76it/s]\u001b[0m\n",
      "\u001b[34m#033[34m#033[1mtrain: #033[0mNew cache created: /opt/ml/input/data/training/train/labels.cache\u001b[0m\n",
      "\u001b[34m#015#033[34m#033[1mval: #033[0mScanning /opt/ml/input/data/training/valid/labels...:   0%|          | 0/390 [00:00<?, ?it/s]#015#033[34m#033[1mval: #033[0mScanning /opt/ml/input/data/training/valid/labels... 119 images, 0 backgrounds, 0 corrupt:  31%|███       | 119/390 [00:00<00:00, 1160.73it/s]#015#033[34m#033[1mval: #033[0mScanning /opt/ml/input/data/training/valid/labels... 248 images, 0 backgrounds, 0 corrupt:  64%|██████▎   | 248/390 [00:00<00:00, 1235.02it/s]#015#033[34m#033[1mval: #033[0mScanning /opt/ml/input/data/training/valid/labels... 384 images, 0 backgrounds, 0 corrupt:  98%|█████████▊| 384/390 [00:00<00:00, 1289.25it/s]#015#033[34m#033[1mval: #033[0mScanning /opt/ml/input/data/training/valid/labels... 390 images, 0 backgrounds, 0 corrupt: 100%|██████████| 390/390 [00:00<00:00, 1279.57it/s]\u001b[0m\n",
      "\u001b[34m#033[34m#033[1mval: #033[0mNew cache created: /opt/ml/input/data/training/valid/labels.cache\u001b[0m\n",
      "\u001b[34mPlotting labels to /opt/ml/model/train/labels.jpg... \u001b[0m\n",
      "\u001b[34m#033[34m#033[1moptimizer:#033[0m 'optimizer=auto' found, ignoring 'lr0=0.01' and 'momentum=0.937' and determining best 'optimizer', 'lr0' and 'momentum' automatically... \u001b[0m\n",
      "\u001b[34m#033[34m#033[1moptimizer:#033[0m AdamW(lr=0.000769, momentum=0.9) with parameter groups 57 weight(decay=0.0), 64 weight(decay=0.0005), 63 bias(decay=0.0)\u001b[0m\n",
      "\u001b[34mImage sizes 640 train, 640 val\u001b[0m\n",
      "\u001b[34mUsing 0 dataloader workers\u001b[0m\n",
      "\u001b[34mLogging results to #033[1m/opt/ml/model/train#033[0m\u001b[0m\n",
      "\u001b[34mStarting training for 2 epochs...\n",
      "      Epoch    GPU_mem   box_loss   cls_loss   dfl_loss  Instances       Size\u001b[0m\n",
      "\u001b[34m#015  0%|          | 0/87 [00:00<?, ?it/s]#015        1/2         0G      2.085       4.45      2.085         55        640:   0%|          | 0/87 [00:13<?, ?it/s]#015        1/2         0G      2.085       4.45      2.085         55        640:   1%|          | 1/87 [00:13<19:03, 13.29s/it]#015        1/2         0G      2.054      4.352      2.068         66        640:   1%|          | 1/87 [00:24<19:03, 13.29s/it]#015        1/2         0G      2.054      4.352      2.068         66        640:   2%|▏         | 2/87 [00:24<17:19, 12.23s/it]#015        1/2         0G      1.978      4.376      2.043         44        640:   2%|▏         | 2/87 [00:35<17:19, 12.23s/it]#015        1/2         0G      1.978      4.376      2.043         44        640:   3%|▎         | 3/87 [00:35<16:13, 11.59s/it]#015        1/2         0G      1.919      4.333      2.025         45        640:   3%|▎         | 3/87 [00:46<16:13, 11.59s/it]#015        1/2         0G      1.919      4.333      2.025         45        640:   5%|▍         | 4/87 [00:46<15:32, 11.23s/it]#015        1/2         0G      1.882      4.325      1.996         46        640:   5%|▍         | 4/87 [00:56<15:32, 11.23s/it]#015        1/2         0G      1.882      4.325      1.996         46        640:   6%|▌         | 5/87 [00:56<14:49, 10.85s/it]#015        1/2         0G      1.844      4.319      1.977         44        640:   6%|▌         | 5/87 [01:06<14:49, 10.85s/it]#015        1/2         0G      1.844      4.319      1.977         44        640:   7%|▋         | 6/87 [01:06<14:17, 10.59s/it]#015        1/2         0G      1.809      4.321      1.945         48        640:   7%|▋         | 6/87 [01:16<14:17, 10.59s/it]#015        1/2         0G      1.809      4.321      1.945         48        640:   8%|▊         | 7/87 [01:16<13:48, 10.36s/it]#015        1/2         0G      1.793      4.299      1.936         51        640:   8%|▊         | 7/87 [01:26<13:48, 10.36s/it]#015        1/2         0G      1.793      4.299      1.936         51        640:   9%|▉         | 8/87 [01:26<13:24, 10.19s/it]#015        1/2         0G      1.785      4.291      1.934         46        640:   9%|▉         | 8/87 [01:36<13:24, 10.19s/it]#015        1/2         0G      1.785      4.291      1.934         46        640:  10%|█         | 9/87 [01:36<13:06, 10.08s/it]#015        1/2         0G      1.785      4.284      1.956         39        640:  10%|█         | 9/87 [01:46<13:06, 10.08s/it]#015        1/2         0G      1.785      4.284      1.956         39        640:  11%|█▏        | 10/87 [01:46<12:52, 10.04s/it]#015        1/2         0G      1.792      4.276      1.962         48        640:  11%|█▏        | 10/87 [01:55<12:52, 10.04s/it]#015        1/2         0G      1.792      4.276      1.962         48        640:  13%|█▎        | 11/87 [01:55<12:40, 10.00s/it]#015        1/2         0G      1.808       4.28      1.967         54        640:  13%|█▎        | 11/87 [02:05<12:40, 10.00s/it]#015        1/2         0G      1.808       4.28      1.967         54        640:  14%|█▍        | 12/87 [02:05<12:29,  9.99s/it]#015        1/2         0G      1.807      4.269      1.966         46        640:  14%|█▍        | 12/87 [02:15<12:29,  9.99s/it]#015        1/2         0G      1.807      4.269      1.966         46        640:  15%|█▍        | 13/87 [02:15<12:17,  9.96s/it]#015        1/2         0G      1.803      4.284      1.963         35        640:  15%|█▍        | 13/87 [02:25<12:17,  9.96s/it]#015        1/2         0G      1.803      4.284      1.963         35        640:  16%|█▌        | 14/87 [02:25<12:07,  9.97s/it]#015        1/2         0G      1.812      4.285      1.965         67        640:  16%|█▌        | 14/87 [02:36<12:07,  9.97s/it]#015        1/2         0G      1.812      4.285      1.965         67        640:  17%|█▋        | 15/87 [02:36<12:06, 10.09s/it]#015        1/2         0G      1.792      4.274      1.957         49        640:  17%|█▋        | 15/87 [02:46<12:06, 10.09s/it]#015        1/2         0G      1.792      4.274      1.957         49        640:  18%|█▊        | 16/87 [02:46<11:57, 10.11s/it]#015        1/2         0G      1.798      4.277      1.966         42        640:  18%|█▊        | 16/87 [02:56<11:57, 10.11s/it]#015        1/2         0G      1.798      4.277      1.966         42        640:  20%|█▉        | 17/87 [02:56<11:45, 10.08s/it]#015        1/2         0G      1.806      4.275      1.977         39        640:  20%|█▉        | 17/87 [03:06<11:45, 10.08s/it]#015        1/2         0G      1.806      4.275      1.977         39        640:  21%|██        | 18/87 [03:06<11:36, 10.09s/it]#015        1/2         0G      1.815      4.281      1.984         46        640:  21%|██        | 18/87 [03:16<11:36, 10.09s/it]#015        1/2         0G      1.815      4.281      1.984         46        640:  22%|██▏       | 19/87 [03:16<11:25, 10.08s/it]#015        1/2         0G      1.816      4.277      1.991         42        640:  22%|██▏       | 19/87 [03:26<11:25, 10.08s/it]#015        1/2         0G      1.816      4.277      1.991         42        640:  23%|██▎       | 20/87 [03:26<11:19, 10.14s/it]#015        1/2         0G      1.814      4.269      1.992         55        640:  23%|██▎       | 20/87 [03:36<11:19, 10.14s/it]#015        1/2         0G      1.814      4.269      1.992         55        640:  24%|██▍       | 21/87 [03:36<11:04, 10.07s/it]#015        1/2         0G        1.8      4.254      1.986         45        640:  24%|██▍       | 21/87 [03:46<11:04, 10.07s/it]#015        1/2         0G        1.8      4.254      1.986         45        640:  25%|██▌       | 22/87 [03:46<10:55, 10.08s/it]#015        1/2         0G      1.797      4.258      1.987         36        640:  25%|██▌       | 22/87 [03:56<10:55, 10.08s/it]#015        1/2         0G      1.797      4.258      1.987         36        640:  26%|██▋       | 23/87 [03:56<10:41, 10.03s/it]#015        1/2         0G      1.788      4.258      1.987         34        640:  26%|██▋       | 23/87 [04:06<10:41, 10.03s/it]#015        1/2         0G      1.788      4.258      1.987         34        640:  28%|██▊       | 24/87 [04:06<10:33, 10.05s/it]#015        1/2         0G      1.775      4.245       1.98         56        640:  28%|██▊       | 24/87 [04:17<10:33, 10.05s/it]#015        1/2         0G      1.775      4.245       1.98         56        640:  29%|██▊       | 25/87 [04:17<10:27, 10.12s/it]#015        1/2         0G      1.774      4.243      1.984         45        640:  29%|██▊       | 25/87 [04:27<10:27, 10.12s/it]#015        1/2         0G      1.774      4.243      1.984         45        640:  30%|██▉       | 26/87 [04:27<10:14, 10.08s/it]#015        1/2         0G      1.782      4.245      1.991         48        640:  30%|██▉       | 26/87 [04:36<10:14, 10.08s/it]#015        1/2         0G      1.782      4.245      1.991         48        640:  31%|███       | 27/87 [04:36<10:01, 10.03s/it]#015        1/2         0G      1.777      4.242      1.986         46        640:  31%|███       | 27/87 [04:47<10:01, 10.03s/it]#015        1/2         0G      1.777      4.242      1.986         46        640:  32%|███▏      | 28/87 [04:47<09:52, 10.04s/it]#015        1/2         0G      1.774      4.235      1.983         43        640:  32%|███▏      | 28/87 [04:57<09:52, 10.04s/it]#015        1/2         0G      1.774      4.235      1.983         43        640:  33%|███▎      | 29/87 [04:57<09:45, 10.10s/it]#015        1/2         0G      1.769      4.231      1.977         44        640:  33%|███▎      | 29/87 [05:07<09:45, 10.10s/it]#015        1/2         0G      1.769      4.231      1.977         44        640:  34%|███▍      | 30/87 [05:07<09:35, 10.09s/it]#015        1/2         0G      1.769      4.228      1.981         36        640:  34%|███▍      | 30/87 [05:17<09:35, 10.09s/it]#015        1/2         0G      1.769      4.228      1.981         36        640:  36%|███▌      | 31/87 [05:17<09:23, 10.07s/it]#015        1/2         0G      1.766      4.219      1.977         55        640:  36%|███▌      | 31/87 [05:27<09:23, 10.07s/it]#015        1/2         0G      1.766      4.219      1.977         55        640:  37%|███▋      | 32/87 [05:27<09:11, 10.03s/it]#015        1/2         0G      1.774      4.222      1.977         70        640:  37%|███▋      | 32/87 [05:37<09:11, 10.03s/it]#015        1/2         0G      1.774      4.222      1.977         70        640:  38%|███▊      | 33/87 [05:37<09:02, 10.06s/it]#015        1/2         0G      1.775      4.215      1.978         53        640:  38%|███▊      | 33/87 [05:47<09:02, 10.06s/it]#015        1/2         0G      1.775      4.215      1.978         53        640:  39%|███▉      | 34/87 [05:47<08:51, 10.03s/it]#015        1/2         0G      1.771      4.207      1.973         39        640:  39%|███▉      | 34/87 [05:57<08:51, 10.03s/it]#015        1/2         0G      1.771      4.207      1.973         39        640:  40%|████      | 35/87 [05:57<08:42, 10.04s/it]#015        1/2         0G      1.763      4.198      1.967         46        640:  40%|████      | 35/87 [06:07<08:42, 10.04s/it]#015        1/2         0G      1.763      4.198      1.967         46        640:  41%|████▏     | 36/87 [06:07<08:31, 10.03s/it]#015        1/2         0G      1.756      4.192      1.959         47        640:  41%|████▏     | 36/87 [06:17<08:31, 10.03s/it]#015        1/2         0G      1.756      4.192      1.959         47        640:  43%|████▎     | 37/87 [06:17<08:18,  9.97s/it]#015        1/2         0G      1.748      4.181      1.955         40        640:  43%|████▎     | 37/87 [06:27<08:18,  9.97s/it]#015        1/2         0G      1.748      4.181      1.955         40        640:  44%|████▎     | 38/87 [06:27<08:08,  9.97s/it]#015        1/2         0G      1.746      4.174      1.955         46        640:  44%|████▎     | 38/87 [06:37<08:08,  9.97s/it]#015        1/2         0G      1.746      4.174      1.955         46        640:  45%|████▍     | 39/87 [06:37<07:56,  9.93s/it]#015        1/2         0G      1.743      4.162      1.953         58        640:  45%|████▍     | 39/87 [06:47<07:56,  9.93s/it]#015        1/2         0G      1.743      4.162      1.953         58        640:  46%|████▌     | 40/87 [06:47<07:47,  9.95s/it]#015        1/2         0G      1.734      4.152      1.946         44        640:  46%|████▌     | 40/87 [06:57<07:47,  9.95s/it]#015        1/2         0G      1.734      4.152      1.946         44        640:  47%|████▋     | 41/87 [06:57<07:38,  9.97s/it]#015        1/2         0G      1.732      4.146      1.945         44        640:  47%|████▋     | 41/87 [07:07<07:38,  9.97s/it]#015        1/2         0G      1.732      4.146      1.945         44        640:  48%|████▊     | 42/87 [07:07<07:29,  9.99s/it]#015        1/2         0G      1.731      4.142      1.945         45        640:  48%|████▊     | 42/87 [07:17<07:29,  9.99s/it]#015        1/2         0G      1.731      4.142      1.945         45        640:  49%|████▉     | 43/87 [07:17<07:17,  9.95s/it]#015        1/2         0G       1.73       4.13      1.945         58        640:  49%|████▉     | 43/87 [07:26<07:17,  9.95s/it]#015        1/2         0G       1.73       4.13      1.945         58        640:  51%|█████     | 44/87 [07:26<07:07,  9.94s/it]#015        1/2         0G      1.729      4.119      1.943         59        640:  51%|█████     | 44/87 [07:36<07:07,  9.94s/it]#015        1/2         0G      1.729      4.119      1.943         59        640:  52%|█████▏    | 45/87 [07:36<06:56,  9.91s/it]#015        1/2         0G      1.736      4.109      1.947         50        640:  52%|█████▏    | 45/87 [07:46<06:56,  9.91s/it]#015        1/2         0G      1.736      4.109      1.947         50        640:  53%|█████▎    | 46/87 [07:46<06:48,  9.96s/it]#015        1/2         0G      1.738        4.1      1.948         63        640:  53%|█████▎    | 46/87 [07:56<06:48,  9.96s/it]#015        1/2         0G      1.738        4.1      1.948         63        640:  54%|█████▍    | 47/87 [07:56<06:36,  9.91s/it]#015        1/2         0G       1.74      4.096       1.95         51        640:  54%|█████▍    | 47/87 [08:06<06:36,  9.91s/it]#015        1/2         0G       1.74      4.096       1.95         51        640:  55%|█████▌    | 48/87 [08:06<06:28,  9.97s/it]#015        1/2         0G      1.739      4.094      1.948         47        640:  55%|█████▌    | 48/87 [08:16<06:28,  9.97s/it]#015        1/2         0G      1.739      4.094      1.948         47        640:  56%|█████▋    | 49/87 [08:16<06:16,  9.91s/it]#015        1/2         0G      1.736      4.089      1.944         60        640:  56%|█████▋    | 49/87 [08:26<06:16,  9.91s/it]#015        1/2         0G      1.736      4.089      1.944         60        640:  57%|█████▋    | 50/87 [08:26<06:06,  9.92s/it]#015        1/2         0G      1.743      4.085       1.95         60        640:  57%|█████▋    | 50/87 [08:36<06:06,  9.92s/it]#015        1/2         0G      1.743      4.085       1.95         60        640:  59%|█████▊    | 51/87 [08:36<05:56,  9.92s/it]#015        1/2         0G      1.745      4.083      1.952         53        640:  59%|█████▊    | 51/87 [08:46<05:56,  9.92s/it]#015        1/2         0G      1.745      4.083      1.952         53        640:  60%|█████▉    | 52/87 [08:46<05:48,  9.95s/it]#015        1/2         0G      1.738      4.069      1.947         48        640:  60%|█████▉    | 52/87 [08:56<05:48,  9.95s/it]#015        1/2         0G      1.738      4.069      1.947         48        640:  61%|██████    | 53/87 [08:56<05:38,  9.94s/it]#015        1/2         0G      1.738      4.062      1.946         55        640:  61%|██████    | 53/87 [09:06<05:38,  9.94s/it]#015        1/2         0G      1.738      4.062      1.946         55        640:  62%|██████▏   | 54/87 [09:06<05:29,  9.98s/it]#015        1/2         0G      1.735      4.057      1.943         44        640:  62%|██████▏   | 54/87 [09:16<05:29,  9.98s/it]#015        1/2         0G      1.735      4.057      1.943         44        640:  63%|██████▎   | 55/87 [09:16<05:18,  9.97s/it]#015        1/2         0G      1.736      4.056      1.943         42        640:  63%|██████▎   | 55/87 [09:26<05:18,  9.97s/it]#015        1/2         0G      1.736      4.056      1.943         42        640:  64%|██████▍   | 56/87 [09:26<05:10, 10.00s/it]#015        1/2         0G      1.738      4.054      1.944         50        640:  64%|██████▍   | 56/87 [09:36<05:10, 10.00s/it]#015        1/2         0G      1.738      4.054      1.944         50        640:  66%|██████▌   | 57/87 [09:36<04:58,  9.96s/it]#015        1/2         0G      1.737      4.051      1.943         54        640:  66%|██████▌   | 57/87 [09:46<04:58,  9.96s/it]#015        1/2         0G      1.737      4.051      1.943         54        640:  67%|██████▋   | 58/87 [09:46<04:50, 10.00s/it]#015        1/2         0G      1.738      4.044      1.941         57        640:  67%|██████▋   | 58/87 [09:56<04:50, 10.00s/it]#015        1/2         0G      1.738      4.044      1.941         57        640:  68%|██████▊   | 59/87 [09:56<04:38,  9.96s/it]#015        1/2         0G      1.737      4.039       1.94         60        640:  68%|██████▊   | 59/87 [10:06<04:38,  9.96s/it]#015        1/2         0G      1.737      4.039       1.94         60        640:  69%|██████▉   | 60/87 [10:06<04:29,  9.97s/it]#015        1/2         0G      1.738      4.034      1.939         58        640:  69%|██████▉   | 60/87 [10:16<04:29,  9.97s/it]#015        1/2         0G      1.738      4.034      1.939         58      \u001b[0m\n",
      "\u001b[34m  640:  70%|███████   | 61/87 [10:16<04:18,  9.93s/it]#015        1/2         0G      1.739      4.028      1.938         46        640:  70%|███████   | 61/87 [10:25<04:18,  9.93s/it]#015        1/2         0G      1.739      4.028      1.938         46        640:  71%|███████▏  | 62/87 [10:25<04:08,  9.92s/it]#015        1/2         0G      1.737      4.022      1.937         49        640:  71%|███████▏  | 62/87 [10:35<04:08,  9.92s/it]#015        1/2         0G      1.737      4.022      1.937         49        640:  72%|███████▏  | 63/87 [10:35<03:57,  9.89s/it]#015        1/2         0G      1.736      4.015      1.936         40        640:  72%|███████▏  | 63/87 [10:46<03:57,  9.89s/it]#015        1/2         0G      1.736      4.015      1.936         40        640:  74%|███████▎  | 64/87 [10:46<03:49,  9.99s/it]#015        1/2         0G      1.734      4.014      1.935         48        640:  74%|███████▎  | 64/87 [10:55<03:49,  9.99s/it]#015        1/2         0G      1.734      4.014      1.935         48        640:  75%|███████▍  | 65/87 [10:55<03:38,  9.95s/it]#015        1/2         0G      1.734      4.011      1.937         50        640:  75%|███████▍  | 65/87 [11:05<03:38,  9.95s/it]#015        1/2         0G      1.734      4.011      1.937         50        640:  76%|███████▌  | 66/87 [11:05<03:28,  9.93s/it]#015        1/2         0G      1.737      4.011      1.938         47        640:  76%|███████▌  | 66/87 [11:15<03:28,  9.93s/it]#015        1/2         0G      1.737      4.011      1.938         47        640:  77%|███████▋  | 67/87 [11:15<03:17,  9.89s/it]#015        1/2         0G      1.738      4.009      1.939         57        640:  77%|███████▋  | 67/87 [11:25<03:17,  9.89s/it]#015        1/2         0G      1.738      4.009      1.939         57        640:  78%|███████▊  | 68/87 [11:25<03:08,  9.92s/it]#015        1/2         0G      1.738      4.005      1.937         55        640:  78%|███████▊  | 68/87 [11:35<03:08,  9.92s/it]#015        1/2         0G      1.738      4.005      1.937         55        640:  79%|███████▉  | 69/87 [11:35<02:58,  9.90s/it]#015        1/2         0G      1.738      4.005      1.939         56        640:  79%|███████▉  | 69/87 [11:45<02:58,  9.90s/it]#015        1/2         0G      1.738      4.005      1.939         56        640:  80%|████████  | 70/87 [11:45<02:48,  9.90s/it]#015        1/2         0G       1.74      4.004      1.941         31        640:  80%|████████  | 70/87 [11:55<02:48,  9.90s/it]#015        1/2         0G       1.74      4.004      1.941         31        640:  82%|████████▏ | 71/87 [11:55<02:37,  9.86s/it]#015        1/2         0G      1.744      4.004      1.943         43        640:  82%|████████▏ | 71/87 [12:05<02:37,  9.86s/it]#015        1/2         0G      1.744      4.004      1.943         43        640:  83%|████████▎ | 72/87 [12:05<02:28,  9.88s/it]#015        1/2         0G      1.744      3.998      1.944         55        640:  83%|████████▎ | 72/87 [12:14<02:28,  9.88s/it]#015        1/2         0G      1.744      3.998      1.944         55        640:  84%|████████▍ | 73/87 [12:14<02:18,  9.86s/it]#015        1/2         0G      1.747      3.997      1.946         49        640:  84%|████████▍ | 73/87 [12:24<02:18,  9.86s/it]#015        1/2         0G      1.747      3.997      1.946         49        640:  85%|████████▌ | 74/87 [12:24<02:08,  9.91s/it]#015        1/2         0G      1.747      3.992      1.946         72        640:  85%|████████▌ | 74/87 [12:34<02:08,  9.91s/it]#015        1/2         0G      1.747      3.992      1.946         72        640:  86%|████████▌ | 75/87 [12:34<01:58,  9.89s/it]#015        1/2         0G      1.748       3.99      1.947         52        640:  86%|████████▌ | 75/87 [12:44<01:58,  9.89s/it]#015        1/2         0G      1.748       3.99      1.947         52        640:  87%|████████▋ | 76/87 [12:44<01:49,  9.93s/it]#015        1/2         0G      1.748       3.99      1.947         45        640:  87%|████████▋ | 76/87 [12:54<01:49,  9.93s/it]#015        1/2         0G      1.748       3.99      1.947         45        640:  89%|████████▊ | 77/87 [12:54<01:38,  9.88s/it]#015        1/2         0G       1.75      3.987      1.948         56        640:  89%|████████▊ | 77/87 [13:04<01:38,  9.88s/it]#015        1/2         0G       1.75      3.987      1.948         56        640:  90%|████████▉ | 78/87 [13:04<01:29,  9.91s/it]#015        1/2         0G      1.748      3.985      1.946         35        640:  90%|████████▉ | 78/87 [13:14<01:29,  9.91s/it]#015        1/2         0G      1.748      3.985      1.946         35        640:  91%|█████████ | 79/87 [13:14<01:19,  9.89s/it]#015        1/2         0G      1.749      3.986      1.947         56        640:  91%|█████████ | 79/87 [13:24<01:19,  9.89s/it]#015        1/2         0G      1.749      3.986      1.947         56        640:  92%|█████████▏| 80/87 [13:24<01:09,  9.92s/it]#015        1/2         0G      1.746      3.979      1.944         53        640:  92%|█████████▏| 80/87 [13:34<01:09,  9.92s/it]#015        1/2         0G      1.746      3.979      1.944         53        640:  93%|█████████▎| 81/87 [13:34<00:59,  9.89s/it]#015        1/2         0G      1.747       3.98      1.944         50        640:  93%|█████████▎| 81/87 [13:44<00:59,  9.89s/it]#015        1/2         0G      1.747       3.98      1.944         50        640:  94%|█████████▍| 82/87 [13:44<00:49,  9.89s/it]#015        1/2         0G       1.75       3.98      1.945         54        640:  94%|█████████▍| 82/87 [13:53<00:49,  9.89s/it]#015        1/2         0G       1.75       3.98      1.945         54        640:  95%|█████████▌| 83/87 [13:53<00:39,  9.88s/it]#015        1/2         0G       1.75      3.979      1.945         40        640:  95%|█████████▌| 83/87 [14:03<00:39,  9.88s/it]#015        1/2         0G       1.75      3.979      1.945         40        640:  97%|█████████▋| 84/87 [14:03<00:29,  9.90s/it]#015        1/2         0G       1.75      3.979      1.945         43        640:  97%|█████████▋| 84/87 [14:13<00:29,  9.90s/it]#015        1/2         0G       1.75      3.979      1.945         43        640:  98%|█████████▊| 85/87 [14:13<00:19,  9.89s/it]#015        1/2         0G      1.751      3.975      1.946         51        640:  98%|█████████▊| 85/87 [14:23<00:19,  9.89s/it]#015        1/2         0G      1.751      3.975      1.946         51        640:  99%|█████████▉| 86/87 [14:23<00:09,  9.91s/it]#015        1/2         0G      1.749      3.975      1.946         32        640:  99%|█████████▉| 86/87 [14:29<00:09,  9.91s/it]#015        1/2         0G      1.749      3.975      1.946         32        640: 100%|██████████| 87/87 [14:29<00:00,  8.76s/it]#015        1/2         0G      1.749      3.975      1.946         32        640: 100%|██████████| 87/87 [14:29<00:00, 10.00s/it]\u001b[0m\n",
      "\u001b[34m#015                 Class     Images  Instances      Box(P          R      mAP50  mAP50-95):   0%|          | 0/13 [00:00<?, ?it/s]#015                 Class     Images  Instances      Box(P          R      mAP50  mAP50-95):   8%|▊         | 1/13 [00:07<01:31,  7.63s/it]#015                 Class     Images  Instances      Box(P          R      mAP50  mAP50-95):  15%|█▌        | 2/13 [00:15<01:23,  7.56s/it]#015                 Class     Images  Instances      Box(P          R      mAP50  mAP50-95):  23%|██▎       | 3/13 [00:22<01:15,  7.53s/it]#015                 Class     Images  Instances      Box(P          R      mAP50  mAP50-95):  31%|███       | 4/13 [00:30<01:07,  7.51s/it]#015                 Class     Images  Instances      Box(P          R      mAP50  mAP50-95):  38%|███▊      | 5/13 [00:37<00:59,  7.48s/it]#015                 Class     Images  Instances      Box(P          R      mAP50  mAP50-95):  46%|████▌     | 6/13 [00:45<00:52,  7.51s/it]#015                 Class     Images  Instances      Box(P          R      mAP50  mAP50-95):  54%|█████▍    | 7/13 [00:52<00:45,  7.53s/it]#015                 Class     Images  Instances      Box(P          R      mAP50  mAP50-95):  62%|██████▏   | 8/13 [01:00<00:37,  7.54s/it]#015                 Class     Images  Instances      Box(P          R      mAP50  mAP50-95):  69%|██████▉   | 9/13 [01:07<00:30,  7.53s/it]#015                 Class     Images  Instances      Box(P          R      mAP50  mAP50-95):  77%|███████▋  | 10/13 [01:15<00:22,  7.54s/it]#015                 Class     Images  Instances      Box(P          R      mAP50  mAP50-95):  85%|████████▍ | 11/13 [01:22<00:15,  7.53s/it]#015                 Class     Images  Instances      Box(P          R      mAP50  mAP50-95):  92%|█████████▏| 12/13 [01:30<00:07,  7.54s/it]#015                 Class     Images  Instances      Box(P          R      mAP50  mAP50-95): 100%|██████████| 13/13 [01:31<00:00,  5.65s/it]#015                 Class     Images  Instances      Box(P          R      mAP50  mAP50-95): 100%|██████████| 13/13 [01:31<00:00,  7.05s/it]\n",
      "                   all        390        613    0.00544      0.565     0.0708     0.0407\n",
      "      Epoch    GPU_mem   box_loss   cls_loss   dfl_loss  Instances       Size\u001b[0m\n",
      "\u001b[34m#015  0%|          | 0/87 [00:00<?, ?it/s]#015        2/2         0G      1.755      3.418      1.918         49        640:   0%|          | 0/87 [00:09<?, ?it/s]#015        2/2         0G      1.755      3.418      1.918         49        640:   1%|          | 1/87 [00:09<14:05,  9.84s/it]#015        2/2         0G      1.669      3.564      1.931         38        640:   1%|          | 1/87 [00:19<14:05,  9.84s/it]#015        2/2         0G      1.669      3.564      1.931         38        640:   2%|▏         | 2/87 [00:19<13:58,  9.86s/it]#015        2/2         0G      1.673      3.509      1.941         62        640:   2%|▏         | 2/87 [00:29<13:58,  9.86s/it]#015        2/2         0G      1.673      3.509      1.941         62        640:   3%|▎         | 3/87 [00:29<13:50,  9.89s/it]#015        2/2         0G      1.618       3.49      1.897         41        640:   3%|▎         | 3/87 [00:39<13:50,  9.89s/it]#015        2/2         0G      1.618       3.49      1.897         41        640:   5%|▍         | 4/87 [00:39<13:38,  9.86s/it]#015        2/2         0G      1.629      3.516      1.914         47        640:   5%|▍         | 4/87 [00:49<13:38,  9.86s/it]#015        2/2         0G      1.629      3.516      1.914         47        640:   6%|▌         | 5/87 [00:49<13:28,  9.86s/it]#015        2/2         0G      1.592      3.482       1.89         47        640:   6%|▌         | 5/87 [00:59<13:28,  9.86s/it]#015        2/2         0G      1.592      3.482       1.89         47        640:   7%|▋         | 6/87 [00:59<13:21,  9.89s/it]#015        2/2         0G      1.586       3.47      1.877         39        640:   7%|▋         | 6/87 [01:09<13:21,  9.89s/it]#015        2/2         0G      1.586       3.47      1.877         39        640:   8%|▊         | 7/87 [01:09<13:12,  9.90s/it]#015        2/2         0G      1.597      3.498      1.878         45        640:   8%|▊         | 7/87 [01:19<13:12,  9.90s/it]#015        2/2         0G      1.597      3.498      1.878         45        640:   9%|▉         | 8/87 [01:19<13:02,  9.90s/it]#015        2/2         0G      1.612      3.489       1.88         52        640:   9%|▉         | 8/87 [01:28<13:02,  9.90s/it]#015        2/2         0G      1.612      3.489       1.88         52        640:  10%|█         | 9/87 [01:28<12:52,  9.90s/it]#015        2/2         0G      1.626      3.509      1.895         46        640:  10%|█         | 9/87 [01:38<12:52,  9.90s/it]#015        2/2         0G      1.626      3.509      1.895         46        640:  11%|█▏        | 10/87 [01:38<12:41,  9.89s/it]#015        2/2         0G      1.641      3.531      1.917         38        640:  11%|█▏        | 10/87 [01:48<12:41,  9.89s/it]#015        2/2         0G      1.641      3.531      1.917         38        640:  13%|█▎        | 11/87 [01:48<12:31,  9.89s/it]#015        2/2         0G      1.666      3.541      1.928         41        640:  13%|█▎        | 11/87 [01:58<12:31,  9.89s/it]#015        2/2         0G      1.666      3.541      1.928         41        640:  14%|█▍        | 12/87 [01:58<12:27,  9.97s/it]#015        2/2         0G      1.658      3.529      1.918         45        640:  14%|█▍        | 12/87 [02:08<12:27,  9.97s/it]#015        2/2         0G      1.658      3.529      1.918         45        640:  15%|█▍        | 13/87 [02:08<12:18,  9.98s/it]#015        2/2         0G      1.664      3.541      1.928         55        640:  15%|█▍        | 13/87 [02:18<12:18,  9.98s/it]#015        2/2         0G      1.664      3.541      1.928         55        640:  16%|█▌        | 14/87 [02:18<12:06,  9.96s/it]#015        2/2         0G      1.656      3.537      1.924         46        640:  16%|█▌        | 14/87 [02:28<12:06,  9.96s/it]#015        2/2         0G      1.656      3.537      1.924         46        640:  17%|█▋        | 15/87 [02:28<11:55,  9.93s/it]#015        2/2         0G      1.651      3.541      1.922         46        640:  17%|█▋        | 15/87 [02:38<11:55,  9.93s/it]#015        2/2         0G      1.651      3.541      1.922         46        640:  18%|█▊        | 16/87 [02:38<11:44,  9.92s/it]#015        2/2         0G      1.653      3.529       1.92         59        640:  18%|█▊        | 16/87 [02:48<11:44,  9.92s/it]#015        2/2         0G      1.653      3.529       1.92         59        640:  20%|█▉        | 17/87 [02:48<11:34,  9.93s/it]#015        2/2         0G      1.662      3.536      1.928         43        640:  20%|█▉        | 17/87 [02:58<11:34,  9.93s/it]#015        2/2         0G      1.662      3.536      1.928         43        640:  21%|██        | 18/87 [02:58<11:21,  9.88s/it]#015        2/2         0G      1.657      3.527       1.92         48        640:  21%|██        | 18/87 [03:08<11:21,  9.88s/it]#015        2/2         0G      1.657      3.527       1.92         48        640:  22%|██▏       | 19/87 [03:08<11:12,  9.88s/it]#015        2/2         0G      1.664      3.547      1.923         33        640:  22%|██▏       | 19/87 [03:18<11:12,  9.88s/it]#015        2/2         0G      1.664      3.547      1.923         33        640:  23%|██▎       | 20/87 [03:18<11:01,  9.88s/it]#015        2/2         0G      1.686       3.56      1.941         53        640:  23%|██▎       | 20/87 [03:27<11:01,  9.88s/it]#015        2/2         0G      1.686       3.56      1.941         53        640:  24%|██▍       | 21/87 [03:27<10:53,  9.90s/it]#015        2/2         0G      1.686      3.557      1.941         39        640:  24%|██▍       | 21/87 [03:38<10:53,  9.90s/it]#015        2/2         0G      1.686      3.557      1.941         39        640:  25%|██▌       | 22/87 [03:38<10:45,  9.94s/it]#015        2/2         0G      1.686      3.549      1.943         51        640:  25%|██▌       | 22/87 [03:48<10:45,  9.94s/it]#015        2/2         0G      1.686      3.549      1.943         51        640:  26%|██▋       | 23/87 [03:48<10:39,  9.99s/it]#015        2/2         0G      1.698      3.554      1.953         53        640:  26%|██▋       | 23/87 [03:58<10:39,  9.99s/it]#015        2/2         0G      1.698      3.554      1.953         53        640:  28%|██▊       | 24/87 [03:58<10:27,  9.96s/it]#015        2/2         0G      1.706      3.564      1.954         45        640:  28%|██▊       | 24/87 [04:08<10:27,  9.96s/it]#015        2/2         0G      1.706      3.564      1.954         45        640:  29%|██▊       | 25/87 [04:08<10:19, 10.00s/it]#015        2/2         0G      1.716      3.582      1.964         54        640:  29%|██▊       | 25/87 [04:18<10:19, 10.00s/it]#015        2/2         0G      1.716      3.582      1.964         54        640:  30%|██▉       | 26/87 [04:18<10:09,  9.98s/it]#015        2/2         0G      1.711      3.572      1.959         41        640:  30%|██▉       | 26/87 [04:27<10:09,  9.98s/it]#015        2/2         0G      1.711      3.572      1.959         41        640:  31%|███       | 27/87 [04:27<09:57,  9.96s/it]#015        2/2         0G      1.713      3.565      1.959         55        640:  31%|███       | 27/87 [04:37<09:57,  9.96s/it]#015        2/2         0G      1.713      3.565      1.959         55        640:  32%|███▏      | 28/87 [04:37<09:47,  9.95s/it]#015        2/2         0G      1.704      3.561      1.954         53        640:  32%|███▏      | 28/87 [04:47<09:47,  9.95s/it]#015        2/2         0G      1.704      3.561      1.954         53        640:  33%|███▎      | 29/87 [04:47<09:35,  9.92s/it]#015        2/2         0G        1.7      3.558      1.951         49        640:  33%|███▎      | 29/87 [04:57<09:35,  9.92s/it]#015        2/2         0G        1.7      3.558      1.951         49        640:  34%|███▍      | 30/87 [04:57<09:24,  9.90s/it]#015        2/2         0G      1.686      3.559      1.941         31        640:  34%|███▍      | 30/87 [05:07<09:24,  9.90s/it]#015        2/2         0G      1.686      3.559      1.941         31        640:  36%|███▌      | 31/87 [05:07<09:13,  9.88s/it]#015        2/2         0G      1.689      3.558      1.943         60        640:  36%|███▌      | 31/87 [05:17<09:13,  9.88s/it]#015        2/2         0G      1.689      3.558      1.943         60        640:  37%|███▋      | 32/87 [05:17<09:02,  9.86s/it]#015        2/2         0G      1.692      3.557      1.945         43        640:  37%|███▋      | 32/87 [05:27<09:02,  9.86s/it]#015        2/2         0G      1.692      3.557      1.945         43        640:  38%|███▊      | 33/87 [05:27<08:51,  9.85s/it]#015        2/2         0G      1.692      3.561      1.944         42        640:  38%|███▊      | 33/87 [05:36<08:51,  9.85s/it]#015        2/2         0G      1.692      3.561      1.944         42        640:  39%|███▉      | 34/87 [05:36<08:43,  9.88s/it]#015        2/2         0G      1.693      3.556      1.946         54        640:  39%|███▉      | 34/87 [05:47<08:43,  9.88s/it]#015        2/2         0G      1.693      3.556      1.946         54        640:  40%|████      | 35/87 [05:47<08:36,  9.94s/it]#015        2/2         0G      1.697      3.551      1.947         55        640:  40%|████      | 35/87 [05:57<08:36,  9.94s/it]#015        2/2         0G      1.697      3.551      1.947         55        640:  41%|████▏     | 36/87 [05:57<08:28,  9.97s/it]#015        2/2         0G      1.696      3.551      1.948         39        640:  41%|████▏     | 36/87 [06:07<08:28,  9.97s/it]#015        2/2         0G      1.696      3.551      1.948         39        640:  43%|████▎     | 37/87 [06:07<08:19,  9.98s/it]#015        2/2         0G      1.702      3.549       1.95         68        640:  43%|████▎     | 37/87 [06:17<08:19,  9.98s/it]#015        2/2         0G      1.702      3.549       1.95         68        640:  44%|████▎     | 38/87 [06:17<08:12, 10.04s/it]#015        2/2         0G        1.7      3.539      1.947         61        640:  44%|████▎     | 38/87 [06:27<08:12, 10.04s/it]#015        2/2         0G        1.7      3.539      1.947         61        640:  45%|████▍     | 39/87 [06:27<08:01, 10.03s/it]#015        2/2         0G      1.695      3.535      1.943         57        640:  45%|████▍     | 39/87 [06:37<08:01, 10.03s/it]#015        2/2         0G      1.695      3.535      1.943         57        640:  46%|████▌     | 40/87 [06:37<07:48,  9.96s/it]#015        2/2         0G       1.69      3.532      1.939         48        640:  46%|████▌     | 40/87 [06:47<07:48,  9.96s/it]#015        2/2         0G       1.69      3.532      1.939         48        640:  47%|████▋     | 41/87 [06:47<07:39,  9.98s/it]#015        2/2         0G      1.688      3.531      1.937         43        640:  47%|████▋     | 41/87 [06:57<07:39,  9.98s/it]#015        2/2         0G      1.688      3.531      1.937         43        640:  48%|████▊     | 42/87 [06:57<07:29,  9.98s/it]#015        2/2         0G      1.683      3.525      1.935         42        640:  48%|████▊     | 42/87 [07:07<07:29,  9.98s/it]#015        2/2         0G      1.683      3.525      1.935         42        640:  49%|████▉     | 43/87 [07:07<07:18,  9.97s/it]#015        2/2         0G      1.686      3.527      1.936         50        640:  49%|████▉     | 43/87 [07:17<07:18,  9.97s/it]#015        2/2         0G      1.686      3.527      1.936         50        640:  51%|█████     | 44/87 [07:17<07:08,  9.97s/it]#015        2/2         0G      1.692      3.528      1.941         49        640:  51%|█████     | 44/87 [07:26<07:08,  9.97s/it]#015        2/2         0G      1.692      3.528      1.941         49        640:  52%|█████▏    | 45/87 [07:26<06:56,  9.92s/it]#015        2/2         0G      1.693      3.539       1.94         36        640:  52%|█████▏    | 45/87 [07:36<06:56,  9.92s/it]#015        2/2         0G      1.693      3.539       1.94         36        640:  53%|█████▎    | 46/87 [07:36<06:47,  9.93s/it]#015        2/2         0G      1.693      3.539      1.939         56        640:  53%|█████▎    | 46/87 [07:46<06:47,  9.93s/it]#015        2/2         0G      1.693      3.539      1.939         56        640:  54%|█████▍    | 47/87 [07:46<06:35,  9.90s/it]#015        2/2         0G      1.696      3.541       1.94         60        640:  54%|█████▍    | 47/87 [07:56<06:35,  9.90s/it]#015        2/2         0G      1.696      3.541       1.94         60        640:  55%|█████▌    | 48/87 [07:56<06:26,  9.90s/it]#015        2/2         0G      1.696      3.538      1.938         45        640:  55%|█████▌    | 48/87 [08:06<06:26,  9.90s/it]#015        2/2         0G      1.696      3.538      1.938         45        640:  56%|█████▋    | 49/87 [08:06<06:15,  9.88s/it]#015        2/2         0G      1.698       3.54      1.938         43        640:  56%|█████▋    | 49/87 [08:16<06:15,  9.88s/it]#015        2/2         0G      1.698       3.54      1.938         43        640:  57%|█████▋    | 50/87 [08:16<06:04,  9.85s/it]#015        2/2         0G      1.695      3.539      1.935         40        640:  57%|█████▋    | 50/87 [08:25<06:04,  9.85s/it]#015        2/2         0G      1.695      3.539      1.935         40        640:  59%|█████▊    | 51/87 [08:25<05:54,  9.84s/it]#015        2/2         0G      1.697       3.54      1.936         53        640:  59%|█████▊    | 51/87 [08:35<05:54,  9.84s/it]#015        2/2         0G      1.697       3.54      1.936         53        640:  60%|█████▉    | 52/87 [08:35<05:45,  9.87s/it]#015        2/2         0G      1.695      3.537      1.933         62        640:  60%|█████▉    | 52/87 [08:45<05:45,  9.87s/it]#015        2/2         0G      1.695      3.537      1.933         62        640:  61%|██████    | 53/87 [08:45<05:36,  9.89s/it]#015        2/2         0G      1.698      3.539      1.935         50        640:  61%|██████    | 53/87 [08:55<05:36,  9.89s/it]#015        2/2         0G      1.698      3.539      1.935         50        640:  62%|██████▏   | 54/87 [08:55<05:25,  9.88s/it]#015        2/2         0G      1.696      3.536      1.933         35        640:  62%|██████▏   | 54/87 [09:05<05:25,  9.88s/it]#015        2/2         0G      1.696      3.536      1.933         35        640:  63%|██████▎   | 55/87 [09:05<05:19,  9.97s/it]#015        2/2         0G      1.698      3.538      1.932         50        640:  63%|██████▎   | 55/87 [09:15<05:19,  9.97s/it]#015        2/2         0G      1.698      3.538      1.932         50        640:  64%|██████▍   | 56/87 [09:15<05:09,  9.98s/it]#015        2/2         0G      1.694      3.539      1.929         33        640:  64%|██████▍   | 56/87 [09:25<05:09,  9.98s/it]#015        2/2         0G      1.694      3.539      1.929         33        640:  66%|██████▌   | 57/87 [09:25<04:58,  9.94s/it]#015        2/2         0G      1.694      3.538      1.927         47        640:  66%|██████▌   | 57/87 [09:35<04:58,  9.94s/it]#015        2/2         0G      1.694      3.538      1.927         47        640:  67%|██████▋   | 58/87 [09:35<04:49,  9.99s/it]#015        2/2         0G      1.689      3.532      1.925         38        640:  67%|██████▋   | 58/87 [09:45<04:49,  9.99s/it]#015        2/2         0G      1.689      3.532      1.925         38        640:  68%|██████▊   | 59/87 [09:45<04:38,  9.95s/it]#015        2/2         0G      1.687      3.526      1.923         42        640:  68%|██████▊   | 59/87 [09:55<04:38,  9.95s/it]#015        2/2         0G      1.687      3.526      1.923         42        640:  69%|██████▉   | 60/87 [09:55<04:28,  9.96s/it]#015        2/2         0G      1.685      3.528      1.921         37        640:  69%|██████▉   | 60/87 [10:05<04:28,  9.96s/it]#015        2/2         0G      1.685      3.528      1.921         37      \u001b[0m\n",
      "\u001b[34m  640:  70%|███████   | 61/87 [10:05<04:17,  9.91s/it]#015        2/2         0G      1.685      3.528      1.921         51        640:  70%|███████   | 61/87 [10:15<04:17,  9.91s/it]#015        2/2         0G      1.685      3.528      1.921         51        640:  71%|███████▏  | 62/87 [10:15<04:07,  9.89s/it]#015        2/2         0G      1.682      3.526      1.918         42        640:  71%|███████▏  | 62/87 [10:25<04:07,  9.89s/it]#015        2/2         0G      1.682      3.526      1.918         42        640:  72%|███████▏  | 63/87 [10:25<03:56,  9.85s/it]#015        2/2         0G      1.684      3.525      1.918         58        640:  72%|███████▏  | 63/87 [10:35<03:56,  9.85s/it]#015        2/2         0G      1.684      3.525      1.918         58        640:  74%|███████▎  | 64/87 [10:35<03:47,  9.88s/it]#015        2/2         0G      1.681      3.519      1.916         48        640:  74%|███████▎  | 64/87 [10:44<03:47,  9.88s/it]#015        2/2         0G      1.681      3.519      1.916         48        640:  75%|███████▍  | 65/87 [10:44<03:36,  9.85s/it]#015        2/2         0G      1.677      3.515      1.915         36        640:  75%|███████▍  | 65/87 [10:54<03:36,  9.85s/it]#015        2/2         0G      1.677      3.515      1.915         36        640:  76%|███████▌  | 66/87 [10:54<03:26,  9.84s/it]#015        2/2         0G      1.677      3.511      1.916         40        640:  76%|███████▌  | 66/87 [11:04<03:26,  9.84s/it]#015        2/2         0G      1.677      3.511      1.916         40        640:  77%|███████▋  | 67/87 [11:04<03:17,  9.89s/it]#015        2/2         0G      1.675       3.51      1.915         51        640:  77%|███████▋  | 67/87 [11:14<03:17,  9.89s/it]#015        2/2         0G      1.675       3.51      1.915         51        640:  78%|███████▊  | 68/87 [11:14<03:07,  9.88s/it]#015        2/2         0G      1.676      3.509      1.915         56        640:  78%|███████▊  | 68/87 [11:24<03:07,  9.88s/it]#015        2/2         0G      1.676      3.509      1.915         56        640:  79%|███████▉  | 69/87 [11:24<02:57,  9.89s/it]#015        2/2         0G      1.674      3.507      1.914         39        640:  79%|███████▉  | 69/87 [11:34<02:57,  9.89s/it]#015        2/2         0G      1.674      3.507      1.914         39        640:  80%|████████  | 70/87 [11:34<02:48,  9.93s/it]#015        2/2         0G      1.677      3.511      1.915         60        640:  80%|████████  | 70/87 [11:44<02:48,  9.93s/it]#015        2/2         0G      1.677      3.511      1.915         60        640:  82%|████████▏ | 71/87 [11:44<02:38,  9.91s/it]#015        2/2         0G      1.681      3.511      1.917         64        640:  82%|████████▏ | 71/87 [11:54<02:38,  9.91s/it]#015        2/2         0G      1.681      3.511      1.917         64        640:  83%|████████▎ | 72/87 [11:54<02:28,  9.88s/it]#015        2/2         0G      1.683      3.508      1.916         51        640:  83%|████████▎ | 72/87 [12:03<02:28,  9.88s/it]#015        2/2         0G      1.683      3.508      1.916         51        640:  84%|████████▍ | 73/87 [12:03<02:18,  9.87s/it]#015        2/2         0G      1.685       3.51      1.918         62        640:  84%|████████▍ | 73/87 [12:13<02:18,  9.87s/it]#015        2/2         0G      1.685       3.51      1.918         62        640:  85%|████████▌ | 74/87 [12:13<02:08,  9.91s/it]#015        2/2         0G      1.688      3.508      1.919         58        640:  85%|████████▌ | 74/87 [12:23<02:08,  9.91s/it]#015        2/2         0G      1.688      3.508      1.919         58        640:  86%|████████▌ | 75/87 [12:23<01:58,  9.89s/it]#015        2/2         0G      1.691      3.509       1.92         55        640:  86%|████████▌ | 75/87 [12:33<01:58,  9.89s/it]#015        2/2         0G      1.691      3.509       1.92         55        640:  87%|████████▋ | 76/87 [12:33<01:48,  9.89s/it]#015        2/2         0G       1.69      3.511       1.92         42        640:  87%|████████▋ | 76/87 [12:43<01:48,  9.89s/it]#015        2/2         0G       1.69      3.511       1.92         42        640:  89%|████████▊ | 77/87 [12:43<01:38,  9.86s/it]#015        2/2         0G      1.689      3.507      1.919         54        640:  89%|████████▊ | 77/87 [12:53<01:38,  9.86s/it]#015        2/2         0G      1.689      3.507      1.919         54        640:  90%|████████▉ | 78/87 [12:53<01:28,  9.88s/it]#015        2/2         0G      1.685      3.502      1.915         51        640:  90%|████████▉ | 78/87 [13:03<01:28,  9.88s/it]#015        2/2         0G      1.685      3.502      1.915         51        640:  91%|█████████ | 79/87 [13:03<01:19,  9.88s/it]#015        2/2         0G      1.685      3.499      1.914         55        640:  91%|█████████ | 79/87 [13:13<01:19,  9.88s/it]#015        2/2         0G      1.685      3.499      1.914         55        640:  92%|█████████▏| 80/87 [13:13<01:09,  9.93s/it]#015        2/2         0G      1.686      3.499      1.913         58        640:  92%|█████████▏| 80/87 [13:23<01:09,  9.93s/it]#015        2/2         0G      1.686      3.499      1.913         58        640:  93%|█████████▎| 81/87 [13:23<00:59,  9.88s/it]#015        2/2         0G      1.683      3.496      1.911         39        640:  93%|█████████▎| 81/87 [13:33<00:59,  9.88s/it]#015        2/2         0G      1.683      3.496      1.911         39        640:  94%|█████████▍| 82/87 [13:33<00:49,  9.93s/it]#015        2/2         0G      1.682      3.494       1.91         50        640:  94%|█████████▍| 82/87 [13:43<00:49,  9.93s/it]#015        2/2         0G      1.682      3.494       1.91         50        640:  95%|█████████▌| 83/87 [13:43<00:39,  9.93s/it]#015        2/2         0G      1.682      3.492       1.91         47        640:  95%|█████████▌| 83/87 [13:52<00:39,  9.93s/it]#015        2/2         0G      1.682      3.492       1.91         47        640:  97%|█████████▋| 84/87 [13:52<00:29,  9.91s/it]#015        2/2         0G      1.679       3.49      1.908         48        640:  97%|█████████▋| 84/87 [14:02<00:29,  9.91s/it]#015        2/2         0G      1.679       3.49      1.908         48        640:  98%|█████████▊| 85/87 [14:02<00:19,  9.89s/it]#015        2/2         0G      1.678      3.491      1.907         36        640:  98%|█████████▊| 85/87 [14:12<00:19,  9.89s/it]#015        2/2         0G      1.678      3.491      1.907         36        640:  99%|█████████▉| 86/87 [14:12<00:09,  9.88s/it]#015        2/2         0G      1.681      3.492      1.909         33        640:  99%|█████████▉| 86/87 [14:18<00:09,  9.88s/it]#015        2/2         0G      1.681      3.492      1.909         33        640: 100%|██████████| 87/87 [14:18<00:00,  8.72s/it]#015        2/2         0G      1.681      3.492      1.909         33        640: 100%|██████████| 87/87 [14:18<00:00,  9.87s/it]\u001b[0m\n",
      "\u001b[34m#015                 Class     Images  Instances      Box(P          R      mAP50  mAP50-95):   0%|          | 0/13 [00:00<?, ?it/s]#015                 Class     Images  Instances      Box(P          R      mAP50  mAP50-95):   8%|▊         | 1/13 [00:07<01:28,  7.41s/it]#015                 Class     Images  Instances      Box(P          R      mAP50  mAP50-95):  15%|█▌        | 2/13 [00:14<01:20,  7.34s/it]#015                 Class     Images  Instances      Box(P          R      mAP50  mAP50-95):  23%|██▎       | 3/13 [00:22<01:13,  7.33s/it]#015                 Class     Images  Instances      Box(P          R      mAP50  mAP50-95):  31%|███       | 4/13 [00:29<01:05,  7.32s/it]#015                 Class     Images  Instances      Box(P          R      mAP50  mAP50-95):  38%|███▊      | 5/13 [00:36<00:58,  7.29s/it]#015                 Class     Images  Instances      Box(P          R      mAP50  mAP50-95):  46%|████▌     | 6/13 [00:43<00:51,  7.34s/it]#015                 Class     Images  Instances      Box(P          R      mAP50  mAP50-95):  54%|█████▍    | 7/13 [00:51<00:44,  7.37s/it]#015                 Class     Images  Instances      Box(P          R      mAP50  mAP50-95):  62%|██████▏   | 8/13 [00:58<00:36,  7.38s/it]#015                 Class     Images  Instances      Box(P          R      mAP50  mAP50-95):  69%|██████▉   | 9/13 [01:06<00:29,  7.37s/it]#015                 Class     Images  Instances      Box(P          R      mAP50  mAP50-95):  77%|███████▋  | 10/13 [01:13<00:22,  7.36s/it]#015                 Class     Images  Instances      Box(P          R      mAP50  mAP50-95):  85%|████████▍ | 11/13 [01:20<00:14,  7.36s/it]#015                 Class     Images  Instances      Box(P          R      mAP50  mAP50-95):  92%|█████████▏| 12/13 [01:28<00:07,  7.37s/it]#015                 Class     Images  Instances      Box(P          R      mAP50  mAP50-95): 100%|██████████| 13/13 [01:29<00:00,  5.53s/it]#015                 Class     Images  Instances      Box(P          R      mAP50  mAP50-95): 100%|██████████| 13/13 [01:29<00:00,  6.89s/it]\n",
      "                   all        390        613       0.35      0.119     0.0888      0.042\u001b[0m\n",
      "\u001b[34m2 epochs completed in 0.531 hours.\u001b[0m\n",
      "\u001b[34mOptimizer stripped from /opt/ml/model/train/weights/last.pt, 6.2MB\u001b[0m\n",
      "\u001b[34mOptimizer stripped from /opt/ml/model/train/weights/best.pt, 6.2MB\u001b[0m\n",
      "\u001b[34mValidating /opt/ml/model/train/weights/best.pt...\u001b[0m\n",
      "\u001b[34mUltralytics YOLOv8.2.28 🚀 Python-3.11.7 torch-2.3.0+cu121 CPU (Intel Xeon E5-2666 v3 2.90GHz)\u001b[0m\n",
      "\u001b[34mModel summary (fused): 168 layers, 3007403 parameters, 0 gradients, 8.1 GFLOPs\u001b[0m\n",
      "\u001b[34m#015                 Class     Images  Instances      Box(P          R      mAP50  mAP50-95):   0%|          | 0/13 [00:00<?, ?it/s]#015                 Class     Images  Instances      Box(P          R      mAP50  mAP50-95):   8%|▊         | 1/13 [00:06<01:17,  6.42s/it]#015                 Class     Images  Instances      Box(P          R      mAP50  mAP50-95):  15%|█▌        | 2/13 [00:12<01:11,  6.49s/it]#015                 Class     Images  Instances      Box(P          R      mAP50  mAP50-95):  23%|██▎       | 3/13 [00:19<01:05,  6.56s/it]#015                 Class     Images  Instances      Box(P          R      mAP50  mAP50-95):  31%|███       | 4/13 [00:25<00:58,  6.46s/it]#015                 Class     Images  Instances      Box(P          R      mAP50  mAP50-95):  38%|███▊      | 5/13 [00:32<00:51,  6.40s/it]#015                 Class     Images  Instances      Box(P          R      mAP50  mAP50-95):  46%|████▌     | 6/13 [00:38<00:44,  6.41s/it]#015                 Class     Images  Instances      Box(P          R      mAP50  mAP50-95):  54%|█████▍    | 7/13 [00:45<00:38,  6.40s/it]#015                 Class     Images  Instances      Box(P          R      mAP50  mAP50-95):  62%|██████▏   | 8/13 [00:51<00:31,  6.40s/it]#015                 Class     Images  Instances      Box(P          R      mAP50  mAP50-95):  69%|██████▉   | 9/13 [00:57<00:25,  6.39s/it]#015                 Class     Images  Instances      Box(P          R      mAP50  mAP50-95):  77%|███████▋  | 10/13 [01:04<00:19,  6.38s/it]#015                 Class     Images  Instances      Box(P          R      mAP50  mAP50-95):  85%|████████▍ | 11/13 [01:10<00:12,  6.37s/it]#015                 Class     Images  Instances      Box(P          R      mAP50  mAP50-95):  92%|█████████▏| 12/13 [01:16<00:06,  6.37s/it]#015                 Class     Images  Instances      Box(P          R      mAP50  mAP50-95): 100%|██████████| 13/13 [01:18<00:00,  4.80s/it]#015                 Class     Images  Instances      Box(P          R      mAP50  mAP50-95): 100%|██████████| 13/13 [01:18<00:00,  6.00s/it]\u001b[0m\n",
      "\u001b[34m                   all        390        613      0.351      0.119     0.0888      0.042\n",
      "                     1         26         26      0.117      0.154      0.113     0.0427\n",
      "                     2         37         37     0.0688      0.135     0.0397     0.0157\n",
      "                     3         31         46          0          0    0.00425     0.0021\n",
      "                     4         36         39          1          0     0.0176    0.00918\n",
      "                     5         42         72          0          0    0.00815     0.0021\n",
      "                     6         40         40      0.467      0.475      0.383      0.216\n",
      "                  Dent         86        106      0.142      0.104     0.0565     0.0174\n",
      "               Scratch        136        242      0.364      0.202      0.178     0.0724\n",
      "             undefined          5          5          1          0          0          0\u001b[0m\n",
      "\u001b[34mSpeed: 2.5ms preprocess, 187.4ms inference, 0.0ms loss, 7.1ms postprocess per image\u001b[0m\n",
      "\u001b[34mResults saved to #033[1m/opt/ml/model/train#033[0m\u001b[0m\n",
      "\u001b[34mTraining complete.\u001b[0m\n",
      "\n",
      "2024-06-05 18:03:49 Uploading - Uploading generated training model\n",
      "2024-06-05 18:03:49 Completed - Training job completed\n",
      "Training seconds: 2172\n",
      "Billable seconds: 2172\n"
     ]
    }
   ],
   "source": [
    "account = sess.boto_session.client(\"sts\").get_caller_identity()[\"Account\"]\n",
    "region = sess.boto_session.region_name\n",
    "image =  \"{}.dkr.ecr.{}.amazonaws.com/damagedetection:latest\".format(account, region)\n",
    "\n",
    "tree = sage.estimator.Estimator(\n",
    "    image,\n",
    "    role,\n",
    "    1,\n",
    "    \"ml.c4.2xlarge\",\n",
    "    output_path=\"s3://{}/output\".format(sess.default_bucket()),\n",
    "    sagemaker_session=sess,\n",
    ")\n",
    "\n",
    "tree.fit(data_location)"
   ]
  },
  {
   "cell_type": "markdown",
   "metadata": {},
   "source": [
    "## Hosting your model\n",
    "You can use a trained model to get real time predictions using HTTP endpoint. Follow these steps to walk you through the process."
   ]
  },
  {
   "cell_type": "markdown",
   "metadata": {},
   "source": [
    "### Deploy the model\n",
    "\n",
    "Deploying the model to SageMaker hosting just requires a `deploy` call on the fitted model. This call takes an instance count, instance type, and optionally serializer and deserializer functions. These are used when the resulting predictor is created on the endpoint."
   ]
  },
  {
   "cell_type": "code",
   "execution_count": 8,
   "metadata": {},
   "outputs": [
    {
     "name": "stderr",
     "output_type": "stream",
     "text": [
      "INFO:sagemaker:Creating model with name: customalgo-2024-05-29-15-25-24-588\n",
      "INFO:sagemaker:Creating endpoint-config with name customalgo-2024-05-29-15-25-24-588\n",
      "INFO:sagemaker:Creating endpoint with name customalgo-2024-05-29-15-25-24-588\n"
     ]
    },
    {
     "name": "stdout",
     "output_type": "stream",
     "text": [
      "---!"
     ]
    }
   ],
   "source": [
    "from sagemaker.serializers import CSVSerializer\n",
    "\n",
    "predictor = tree.deploy(1, \"ml.m4.xlarge\", serializer=CSVSerializer())"
   ]
  },
  {
   "cell_type": "markdown",
   "metadata": {},
   "source": [
    "### Choose some data and use it for a prediction\n",
    "\n",
    "In order to do some predictions, we'll extract some of the data we used for training and do predictions against it. This is, of course, bad statistical practice, but a good way to see how the mechanism works."
   ]
  },
  {
   "cell_type": "code",
   "execution_count": 9,
   "metadata": {},
   "outputs": [
    {
     "data": {
      "text/html": [
       "<div>\n",
       "<style scoped>\n",
       "    .dataframe tbody tr th:only-of-type {\n",
       "        vertical-align: middle;\n",
       "    }\n",
       "\n",
       "    .dataframe tbody tr th {\n",
       "        vertical-align: top;\n",
       "    }\n",
       "\n",
       "    .dataframe thead th {\n",
       "        text-align: right;\n",
       "    }\n",
       "</style>\n",
       "<table border=\"1\" class=\"dataframe\">\n",
       "  <thead>\n",
       "    <tr style=\"text-align: right;\">\n",
       "      <th></th>\n",
       "      <th>0</th>\n",
       "      <th>1</th>\n",
       "      <th>2</th>\n",
       "      <th>3</th>\n",
       "      <th>4</th>\n",
       "    </tr>\n",
       "  </thead>\n",
       "  <tbody>\n",
       "    <tr>\n",
       "      <th>118</th>\n",
       "      <td>virginica</td>\n",
       "      <td>7.7</td>\n",
       "      <td>2.6</td>\n",
       "      <td>6.9</td>\n",
       "      <td>2.3</td>\n",
       "    </tr>\n",
       "    <tr>\n",
       "      <th>2</th>\n",
       "      <td>setosa</td>\n",
       "      <td>4.7</td>\n",
       "      <td>3.2</td>\n",
       "      <td>1.3</td>\n",
       "      <td>0.2</td>\n",
       "    </tr>\n",
       "    <tr>\n",
       "      <th>101</th>\n",
       "      <td>virginica</td>\n",
       "      <td>5.8</td>\n",
       "      <td>2.7</td>\n",
       "      <td>5.1</td>\n",
       "      <td>1.9</td>\n",
       "    </tr>\n",
       "  </tbody>\n",
       "</table>\n",
       "</div>"
      ],
      "text/plain": [
       "             0    1    2    3    4\n",
       "118  virginica  7.7  2.6  6.9  2.3\n",
       "2       setosa  4.7  3.2  1.3  0.2\n",
       "101  virginica  5.8  2.7  5.1  1.9"
      ]
     },
     "execution_count": 9,
     "metadata": {},
     "output_type": "execute_result"
    }
   ],
   "source": [
    "shape = pd.read_csv(\"data/iris.csv\", header=None)\n",
    "shape.sample(3)"
   ]
  },
  {
   "cell_type": "code",
   "execution_count": 10,
   "metadata": {},
   "outputs": [
    {
     "data": {
      "text/html": [
       "<div>\n",
       "<style scoped>\n",
       "    .dataframe tbody tr th:only-of-type {\n",
       "        vertical-align: middle;\n",
       "    }\n",
       "\n",
       "    .dataframe tbody tr th {\n",
       "        vertical-align: top;\n",
       "    }\n",
       "\n",
       "    .dataframe thead th {\n",
       "        text-align: right;\n",
       "    }\n",
       "</style>\n",
       "<table border=\"1\" class=\"dataframe\">\n",
       "  <thead>\n",
       "    <tr style=\"text-align: right;\">\n",
       "      <th></th>\n",
       "      <th>1</th>\n",
       "      <th>2</th>\n",
       "      <th>3</th>\n",
       "      <th>4</th>\n",
       "    </tr>\n",
       "  </thead>\n",
       "  <tbody>\n",
       "    <tr>\n",
       "      <th>51</th>\n",
       "      <td>6.4</td>\n",
       "      <td>3.2</td>\n",
       "      <td>4.5</td>\n",
       "      <td>1.5</td>\n",
       "    </tr>\n",
       "    <tr>\n",
       "      <th>78</th>\n",
       "      <td>6.0</td>\n",
       "      <td>2.9</td>\n",
       "      <td>4.5</td>\n",
       "      <td>1.5</td>\n",
       "    </tr>\n",
       "    <tr>\n",
       "      <th>40</th>\n",
       "      <td>5.0</td>\n",
       "      <td>3.5</td>\n",
       "      <td>1.3</td>\n",
       "      <td>0.3</td>\n",
       "    </tr>\n",
       "  </tbody>\n",
       "</table>\n",
       "</div>"
      ],
      "text/plain": [
       "      1    2    3    4\n",
       "51  6.4  3.2  4.5  1.5\n",
       "78  6.0  2.9  4.5  1.5\n",
       "40  5.0  3.5  1.3  0.3"
      ]
     },
     "execution_count": 10,
     "metadata": {},
     "output_type": "execute_result"
    }
   ],
   "source": [
    "# drop the label column in the training set\n",
    "shape.drop(shape.columns[[0]], axis=1, inplace=True)\n",
    "shape.sample(3)"
   ]
  },
  {
   "cell_type": "code",
   "execution_count": 11,
   "metadata": {},
   "outputs": [],
   "source": [
    "import itertools\n",
    "\n",
    "a = [50 * i for i in range(3)]\n",
    "b = [40 + i for i in range(10)]\n",
    "indices = [i + j for i, j in itertools.product(a, b)]\n",
    "\n",
    "test_data = shape.iloc[indices[:-1]]"
   ]
  },
  {
   "cell_type": "code",
   "execution_count": 16,
   "metadata": {},
   "outputs": [
    {
     "data": {
      "text/plain": [
       "array([[5. , 3.5, 1.3, 0.3],\n",
       "       [4.5, 2.3, 1.3, 0.3],\n",
       "       [4.4, 3.2, 1.3, 0.2],\n",
       "       [5. , 3.5, 1.6, 0.6],\n",
       "       [5.1, 3.8, 1.9, 0.4],\n",
       "       [4.8, 3. , 1.4, 0.3],\n",
       "       [5.1, 3.8, 1.6, 0.2],\n",
       "       [4.6, 3.2, 1.4, 0.2],\n",
       "       [5.3, 3.7, 1.5, 0.2],\n",
       "       [5. , 3.3, 1.4, 0.2],\n",
       "       [5.5, 2.6, 4.4, 1.2],\n",
       "       [6.1, 3. , 4.6, 1.4],\n",
       "       [5.8, 2.6, 4. , 1.2],\n",
       "       [5. , 2.3, 3.3, 1. ],\n",
       "       [5.6, 2.7, 4.2, 1.3],\n",
       "       [5.7, 3. , 4.2, 1.2],\n",
       "       [5.7, 2.9, 4.2, 1.3],\n",
       "       [6.2, 2.9, 4.3, 1.3],\n",
       "       [5.1, 2.5, 3. , 1.1],\n",
       "       [5.7, 2.8, 4.1, 1.3],\n",
       "       [6.7, 3.1, 5.6, 2.4],\n",
       "       [6.9, 3.1, 5.1, 2.3],\n",
       "       [5.8, 2.7, 5.1, 1.9],\n",
       "       [6.8, 3.2, 5.9, 2.3],\n",
       "       [6.7, 3.3, 5.7, 2.5],\n",
       "       [6.7, 3. , 5.2, 2.3],\n",
       "       [6.3, 2.5, 5. , 1.9],\n",
       "       [6.5, 3. , 5.2, 2. ],\n",
       "       [6.2, 3.4, 5.4, 2.3]])"
      ]
     },
     "execution_count": 16,
     "metadata": {},
     "output_type": "execute_result"
    }
   ],
   "source": [
    "test_data.values"
   ]
  },
  {
   "cell_type": "markdown",
   "metadata": {},
   "source": [
    "Prediction is as easy as calling predict with the predictor we got back from deploy and the data we want to do predictions with. The serializers take care of doing the data conversions for us."
   ]
  },
  {
   "cell_type": "markdown",
   "metadata": {},
   "source": [
    "## Works || Error: CSVSerializer()"
   ]
  },
  {
   "cell_type": "code",
   "execution_count": 19,
   "metadata": {},
   "outputs": [
    {
     "name": "stderr",
     "output_type": "stream",
     "text": [
      "INFO:sagemaker:Creating model with name: customalgo-2024-05-29-15-36-14-752\n",
      "INFO:sagemaker:Creating endpoint-config with name customalgo-2024-05-29-15-36-14-752\n",
      "INFO:sagemaker:Creating endpoint with name customalgo-2024-05-29-15-36-14-752\n"
     ]
    },
    {
     "name": "stdout",
     "output_type": "stream",
     "text": [
      "---!Predictor content type: text/csv\n",
      "setosa\n",
      "setosa\n",
      "setosa\n",
      "setosa\n",
      "setosa\n",
      "setosa\n",
      "setosa\n",
      "setosa\n",
      "setosa\n",
      "setosa\n",
      "versicolor\n",
      "versicolor\n",
      "versicolor\n",
      "versicolor\n",
      "versicolor\n",
      "versicolor\n",
      "versicolor\n",
      "versicolor\n",
      "versicolor\n",
      "versicolor\n",
      "virginica\n",
      "virginica\n",
      "virginica\n",
      "virginica\n",
      "virginica\n",
      "virginica\n",
      "virginica\n",
      "virginica\n",
      "virginica\n",
      "\n"
     ]
    }
   ],
   "source": [
    "import pandas as pd\n",
    "import itertools\n",
    "from sagemaker.serializers import CSVSerializer\n",
    "\n",
    "# Read and prepare the data\n",
    "shape = pd.read_csv(\"data/iris.csv\", header=None)\n",
    "shape.sample(3)\n",
    "\n",
    "# Drop the label column in the training set\n",
    "shape.drop(shape.columns[[0]], axis=1, inplace=True)\n",
    "shape.sample(3)\n",
    "\n",
    "# Create indices\n",
    "a = [50 * i for i in range(3)]\n",
    "b = [40 + i for i in range(10)]\n",
    "indices = [i + j for i, j in itertools.product(a, b)]\n",
    "\n",
    "# Select the test data\n",
    "test_data = shape.iloc[indices[:-1]]\n",
    "\n",
    "# Convert the test data to CSV format string\n",
    "csv_test_data = test_data.to_csv(index=False, header=False).strip()\n",
    "\n",
    "# Initialize the predictor with CSVSerializer\n",
    "predictor = tree.deploy(initial_instance_count=1, instance_type=\"ml.m4.xlarge\", serializer=CSVSerializer())\n",
    "\n",
    "# Print the predictor content type for debugging\n",
    "print(\"Predictor content type:\", predictor.content_type)\n",
    "\n",
    "# Make the prediction with the serialized CSV data\n",
    "prediction = predictor.predict(csv_test_data)\n",
    "\n",
    "# Decode and print the prediction\n",
    "print(prediction.decode(\"utf-8\"))\n"
   ]
  },
  {
   "cell_type": "code",
   "execution_count": 12,
   "metadata": {
    "scrolled": true
   },
   "outputs": [
    {
     "ename": "TypeError",
     "evalue": "can only join an iterable",
     "output_type": "error",
     "traceback": [
      "\u001b[0;31m---------------------------------------------------------------------------\u001b[0m",
      "\u001b[0;31mTypeError\u001b[0m                                 Traceback (most recent call last)",
      "Cell \u001b[0;32mIn[12], line 1\u001b[0m\n\u001b[0;32m----> 1\u001b[0m \u001b[38;5;28mprint\u001b[39m(predictor\u001b[38;5;241m.\u001b[39mpredict(test_data\u001b[38;5;241m.\u001b[39mvalues)\u001b[38;5;241m.\u001b[39mdecode(\u001b[38;5;124m\"\u001b[39m\u001b[38;5;124mutf-8\u001b[39m\u001b[38;5;124m\"\u001b[39m))\n",
      "File \u001b[0;32m~/anaconda3/lib/python3.11/site-packages/sagemaker/base_predictor.py:199\u001b[0m, in \u001b[0;36mPredictor.predict\u001b[0;34m(self, data, initial_args, target_model, target_variant, inference_id, custom_attributes, component_name)\u001b[0m\n\u001b[1;32m    158\u001b[0m \u001b[38;5;250m\u001b[39m\u001b[38;5;124;03m\"\"\"Return the inference from the specified endpoint.\u001b[39;00m\n\u001b[1;32m    159\u001b[0m \n\u001b[1;32m    160\u001b[0m \u001b[38;5;124;03mArgs:\u001b[39;00m\n\u001b[0;32m   (...)\u001b[0m\n\u001b[1;32m    196\u001b[0m \u001b[38;5;124;03m        as is.\u001b[39;00m\n\u001b[1;32m    197\u001b[0m \u001b[38;5;124;03m\"\"\"\u001b[39;00m\n\u001b[1;32m    198\u001b[0m \u001b[38;5;66;03m# [TODO]: clean up component_name in _create_request_args\u001b[39;00m\n\u001b[0;32m--> 199\u001b[0m request_args \u001b[38;5;241m=\u001b[39m \u001b[38;5;28mself\u001b[39m\u001b[38;5;241m.\u001b[39m_create_request_args(\n\u001b[1;32m    200\u001b[0m     data\u001b[38;5;241m=\u001b[39mdata,\n\u001b[1;32m    201\u001b[0m     initial_args\u001b[38;5;241m=\u001b[39minitial_args,\n\u001b[1;32m    202\u001b[0m     target_model\u001b[38;5;241m=\u001b[39mtarget_model,\n\u001b[1;32m    203\u001b[0m     target_variant\u001b[38;5;241m=\u001b[39mtarget_variant,\n\u001b[1;32m    204\u001b[0m     inference_id\u001b[38;5;241m=\u001b[39minference_id,\n\u001b[1;32m    205\u001b[0m     custom_attributes\u001b[38;5;241m=\u001b[39mcustom_attributes,\n\u001b[1;32m    206\u001b[0m )\n\u001b[1;32m    208\u001b[0m inference_component_name \u001b[38;5;241m=\u001b[39m component_name \u001b[38;5;129;01mor\u001b[39;00m \u001b[38;5;28mself\u001b[39m\u001b[38;5;241m.\u001b[39m_get_component_name()\n\u001b[1;32m    209\u001b[0m \u001b[38;5;28;01mif\u001b[39;00m inference_component_name:\n",
      "File \u001b[0;32m~/anaconda3/lib/python3.11/site-packages/sagemaker/base_predictor.py:260\u001b[0m, in \u001b[0;36mPredictor._create_request_args\u001b[0;34m(self, data, initial_args, target_model, target_variant, inference_id, custom_attributes, target_container_hostname)\u001b[0m\n\u001b[1;32m    255\u001b[0m         args[\u001b[38;5;124m\"\u001b[39m\u001b[38;5;124mContentType\u001b[39m\u001b[38;5;124m\"\u001b[39m] \u001b[38;5;241m=\u001b[39m jumpstart_content_type\n\u001b[1;32m    256\u001b[0m     \u001b[38;5;28;01melse\u001b[39;00m:\n\u001b[1;32m    257\u001b[0m         args[\u001b[38;5;124m\"\u001b[39m\u001b[38;5;124mContentType\u001b[39m\u001b[38;5;124m\"\u001b[39m] \u001b[38;5;241m=\u001b[39m (\n\u001b[1;32m    258\u001b[0m             \u001b[38;5;28mself\u001b[39m\u001b[38;5;241m.\u001b[39mcontent_type\n\u001b[1;32m    259\u001b[0m             \u001b[38;5;28;01mif\u001b[39;00m \u001b[38;5;28misinstance\u001b[39m(\u001b[38;5;28mself\u001b[39m\u001b[38;5;241m.\u001b[39mcontent_type, \u001b[38;5;28mstr\u001b[39m)\n\u001b[0;32m--> 260\u001b[0m             \u001b[38;5;28;01melse\u001b[39;00m \u001b[38;5;124m\"\u001b[39m\u001b[38;5;124m, \u001b[39m\u001b[38;5;124m\"\u001b[39m\u001b[38;5;241m.\u001b[39mjoin(\u001b[38;5;28mself\u001b[39m\u001b[38;5;241m.\u001b[39mcontent_type)\n\u001b[1;32m    261\u001b[0m         )\n\u001b[1;32m    263\u001b[0m \u001b[38;5;28;01mif\u001b[39;00m \u001b[38;5;124m\"\u001b[39m\u001b[38;5;124mAccept\u001b[39m\u001b[38;5;124m\"\u001b[39m \u001b[38;5;129;01mnot\u001b[39;00m \u001b[38;5;129;01min\u001b[39;00m args:\n\u001b[1;32m    264\u001b[0m     \u001b[38;5;28;01mif\u001b[39;00m \u001b[38;5;28misinstance\u001b[39m(data, JumpStartSerializablePayload) \u001b[38;5;129;01mand\u001b[39;00m jumpstart_accept:\n",
      "\u001b[0;31mTypeError\u001b[0m: can only join an iterable"
     ]
    }
   ],
   "source": [
    "print(predictor.predict(test_data.values).decode(\"utf-8\"))"
   ]
  },
  {
   "cell_type": "markdown",
   "metadata": {},
   "source": [
    "### Optional cleanup\n",
    "When you're done with the endpoint, you'll want to clean it up."
   ]
  },
  {
   "cell_type": "code",
   "execution_count": null,
   "metadata": {},
   "outputs": [],
   "source": [
    "sess.delete_endpoint(predictor.endpoint)"
   ]
  },
  {
   "cell_type": "markdown",
   "metadata": {},
   "source": [
    "## Run Batch Transform Job\n",
    "You can use a trained model to get inference on large data sets by using [Amazon SageMaker Batch Transform](https://docs.aws.amazon.com/sagemaker/latest/dg/how-it-works-batch.html). A batch transform job takes your input data S3 location and outputs the predictions to the specified S3 output folder. Similar to hosting, you can extract inferences for training data to test batch transform."
   ]
  },
  {
   "cell_type": "markdown",
   "metadata": {},
   "source": [
    "### Create a Transform Job\n",
    "We'll create an `Transformer` that defines how to use the container to get inference results on a data set. This includes the configuration we need to invoke SageMaker batch transform:\n",
    "\n",
    "* The __instance count__ which is the number of machines to use to extract inferences\n",
    "* The __instance type__ which is the type of machine to use to extract inferences\n",
    "* The __output path__ determines where the inference results will be written"
   ]
  },
  {
   "cell_type": "code",
   "execution_count": null,
   "metadata": {},
   "outputs": [],
   "source": [
    "transform_output_folder = \"batch-transform-output\"\n",
    "output_path = \"s3://{}/{}\".format(sess.default_bucket(), transform_output_folder)\n",
    "\n",
    "transformer = tree.transformer(\n",
    "    instance_count=1,\n",
    "    instance_type=\"ml.m4.xlarge\",\n",
    "    output_path=output_path,\n",
    "    assemble_with=\"Line\",\n",
    "    accept=\"text/csv\",\n",
    ")"
   ]
  },
  {
   "cell_type": "markdown",
   "metadata": {},
   "source": [
    "We use tranform() on the transfomer to get inference results against the data that we uploaded. You can use these options when invoking the transformer. \n",
    "\n",
    "* The __data_location__ which is the location of input data\n",
    "* The __content_type__ which is the content type set when making HTTP request to container to get prediction\n",
    "* The __split_type__ which is the delimiter used for splitting input data \n",
    "* The __input_filter__ which indicates the first column (ID) of the input will be dropped before making HTTP request to container"
   ]
  },
  {
   "cell_type": "code",
   "execution_count": null,
   "metadata": {},
   "outputs": [],
   "source": [
    "transformer.transform(\n",
    "    data_location, content_type=\"text/csv\", split_type=\"Line\", input_filter=\"$[1:]\"\n",
    ")\n",
    "transformer.wait()"
   ]
  },
  {
   "cell_type": "markdown",
   "metadata": {},
   "source": [
    "For more information on the configuration options, see [CreateTransformJob API](https://docs.aws.amazon.com/sagemaker/latest/dg/API_CreateTransformJob.html)"
   ]
  },
  {
   "cell_type": "markdown",
   "metadata": {},
   "source": [
    "### View Output\n",
    "Lets read results of above transform job from s3 files and print output"
   ]
  },
  {
   "cell_type": "code",
   "execution_count": null,
   "metadata": {},
   "outputs": [],
   "source": [
    "s3_client = sess.boto_session.client(\"s3\")\n",
    "s3_client.download_file(\n",
    "    sess.default_bucket(), \"{}/iris.csv.out\".format(transform_output_folder), \"/tmp/iris.csv.out\"\n",
    ")\n",
    "with open(\"/tmp/iris.csv.out\") as f:\n",
    "    results = f.readlines()\n",
    "print(\"Transform results: \\n{}\".format(\"\".join(results)))"
   ]
  },
  {
   "attachments": {},
   "cell_type": "markdown",
   "metadata": {},
   "source": [
    "## Notebook CI Test Results\n",
    "\n",
    "This notebook was tested in multiple regions. The test results are as follows, except for us-west-2 which is shown at the top of the notebook.\n",
    "\n",
    "![This us-east-1 badge failed to load. Check your device's internet connectivity, otherwise the service is currently unavailable](https://prod.us-west-2.tcx-beacon.docs.aws.dev/sagemaker-nb/us-east-1/advanced_functionality|scikit_bring_your_own|scikit_bring_your_own.ipynb)\n",
    "\n",
    "![This us-east-2 badge failed to load. Check your device's internet connectivity, otherwise the service is currently unavailable](https://prod.us-west-2.tcx-beacon.docs.aws.dev/sagemaker-nb/us-east-2/advanced_functionality|scikit_bring_your_own|scikit_bring_your_own.ipynb)\n",
    "\n",
    "![This us-west-1 badge failed to load. Check your device's internet connectivity, otherwise the service is currently unavailable](https://prod.us-west-2.tcx-beacon.docs.aws.dev/sagemaker-nb/us-west-1/advanced_functionality|scikit_bring_your_own|scikit_bring_your_own.ipynb)\n",
    "\n",
    "![This ca-central-1 badge failed to load. Check your device's internet connectivity, otherwise the service is currently unavailable](https://prod.us-west-2.tcx-beacon.docs.aws.dev/sagemaker-nb/ca-central-1/advanced_functionality|scikit_bring_your_own|scikit_bring_your_own.ipynb)\n",
    "\n",
    "![This sa-east-1 badge failed to load. Check your device's internet connectivity, otherwise the service is currently unavailable](https://prod.us-west-2.tcx-beacon.docs.aws.dev/sagemaker-nb/sa-east-1/advanced_functionality|scikit_bring_your_own|scikit_bring_your_own.ipynb)\n",
    "\n",
    "![This eu-west-1 badge failed to load. Check your device's internet connectivity, otherwise the service is currently unavailable](https://prod.us-west-2.tcx-beacon.docs.aws.dev/sagemaker-nb/eu-west-1/advanced_functionality|scikit_bring_your_own|scikit_bring_your_own.ipynb)\n",
    "\n",
    "![This eu-west-2 badge failed to load. Check your device's internet connectivity, otherwise the service is currently unavailable](https://prod.us-west-2.tcx-beacon.docs.aws.dev/sagemaker-nb/eu-west-2/advanced_functionality|scikit_bring_your_own|scikit_bring_your_own.ipynb)\n",
    "\n",
    "![This eu-west-3 badge failed to load. Check your device's internet connectivity, otherwise the service is currently unavailable](https://prod.us-west-2.tcx-beacon.docs.aws.dev/sagemaker-nb/eu-west-3/advanced_functionality|scikit_bring_your_own|scikit_bring_your_own.ipynb)\n",
    "\n",
    "![This eu-central-1 badge failed to load. Check your device's internet connectivity, otherwise the service is currently unavailable](https://prod.us-west-2.tcx-beacon.docs.aws.dev/sagemaker-nb/eu-central-1/advanced_functionality|scikit_bring_your_own|scikit_bring_your_own.ipynb)\n",
    "\n",
    "![This eu-north-1 badge failed to load. Check your device's internet connectivity, otherwise the service is currently unavailable](https://prod.us-west-2.tcx-beacon.docs.aws.dev/sagemaker-nb/eu-north-1/advanced_functionality|scikit_bring_your_own|scikit_bring_your_own.ipynb)\n",
    "\n",
    "![This ap-southeast-1 badge failed to load. Check your device's internet connectivity, otherwise the service is currently unavailable](https://prod.us-west-2.tcx-beacon.docs.aws.dev/sagemaker-nb/ap-southeast-1/advanced_functionality|scikit_bring_your_own|scikit_bring_your_own.ipynb)\n",
    "\n",
    "![This ap-southeast-2 badge failed to load. Check your device's internet connectivity, otherwise the service is currently unavailable](https://prod.us-west-2.tcx-beacon.docs.aws.dev/sagemaker-nb/ap-southeast-2/advanced_functionality|scikit_bring_your_own|scikit_bring_your_own.ipynb)\n",
    "\n",
    "![This ap-northeast-1 badge failed to load. Check your device's internet connectivity, otherwise the service is currently unavailable](https://prod.us-west-2.tcx-beacon.docs.aws.dev/sagemaker-nb/ap-northeast-1/advanced_functionality|scikit_bring_your_own|scikit_bring_your_own.ipynb)\n",
    "\n",
    "![This ap-northeast-2 badge failed to load. Check your device's internet connectivity, otherwise the service is currently unavailable](https://prod.us-west-2.tcx-beacon.docs.aws.dev/sagemaker-nb/ap-northeast-2/advanced_functionality|scikit_bring_your_own|scikit_bring_your_own.ipynb)\n",
    "\n",
    "![This ap-south-1 badge failed to load. Check your device's internet connectivity, otherwise the service is currently unavailable](https://prod.us-west-2.tcx-beacon.docs.aws.dev/sagemaker-nb/ap-south-1/advanced_functionality|scikit_bring_your_own|scikit_bring_your_own.ipynb)\n"
   ]
  }
 ],
 "metadata": {
  "kernelspec": {
   "display_name": "Python 3 (ipykernel)",
   "language": "python",
   "name": "python3"
  },
  "language_info": {
   "codemirror_mode": {
    "name": "ipython",
    "version": 3
   },
   "file_extension": ".py",
   "mimetype": "text/x-python",
   "name": "python",
   "nbconvert_exporter": "python",
   "pygments_lexer": "ipython3",
   "version": "3.11.7"
  }
 },
 "nbformat": 4,
 "nbformat_minor": 4
}
